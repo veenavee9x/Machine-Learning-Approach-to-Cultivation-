{
 "cells": [
  {
   "cell_type": "code",
   "execution_count": 1,
   "metadata": {},
   "outputs": [],
   "source": [
    "import numpy as np\n",
    "\n",
    "data=np.load('data.npy')\n",
    "target=np.load('target.npy')"
   ]
  },
  {
   "cell_type": "code",
   "execution_count": 2,
   "metadata": {},
   "outputs": [
    {
     "name": "stderr",
     "output_type": "stream",
     "text": [
      "Using TensorFlow backend.\n",
      "C:\\Anaconda\\lib\\site-packages\\tensorflow\\python\\framework\\dtypes.py:526: FutureWarning: Passing (type, 1) or '1type' as a synonym of type is deprecated; in a future version of numpy, it will be understood as (type, (1,)) / '(1,)type'.\n",
      "  _np_qint8 = np.dtype([(\"qint8\", np.int8, 1)])\n",
      "C:\\Anaconda\\lib\\site-packages\\tensorflow\\python\\framework\\dtypes.py:527: FutureWarning: Passing (type, 1) or '1type' as a synonym of type is deprecated; in a future version of numpy, it will be understood as (type, (1,)) / '(1,)type'.\n",
      "  _np_quint8 = np.dtype([(\"quint8\", np.uint8, 1)])\n",
      "C:\\Anaconda\\lib\\site-packages\\tensorflow\\python\\framework\\dtypes.py:528: FutureWarning: Passing (type, 1) or '1type' as a synonym of type is deprecated; in a future version of numpy, it will be understood as (type, (1,)) / '(1,)type'.\n",
      "  _np_qint16 = np.dtype([(\"qint16\", np.int16, 1)])\n",
      "C:\\Anaconda\\lib\\site-packages\\tensorflow\\python\\framework\\dtypes.py:529: FutureWarning: Passing (type, 1) or '1type' as a synonym of type is deprecated; in a future version of numpy, it will be understood as (type, (1,)) / '(1,)type'.\n",
      "  _np_quint16 = np.dtype([(\"quint16\", np.uint16, 1)])\n",
      "C:\\Anaconda\\lib\\site-packages\\tensorflow\\python\\framework\\dtypes.py:530: FutureWarning: Passing (type, 1) or '1type' as a synonym of type is deprecated; in a future version of numpy, it will be understood as (type, (1,)) / '(1,)type'.\n",
      "  _np_qint32 = np.dtype([(\"qint32\", np.int32, 1)])\n",
      "C:\\Anaconda\\lib\\site-packages\\tensorflow\\python\\framework\\dtypes.py:535: FutureWarning: Passing (type, 1) or '1type' as a synonym of type is deprecated; in a future version of numpy, it will be understood as (type, (1,)) / '(1,)type'.\n",
      "  np_resource = np.dtype([(\"resource\", np.ubyte, 1)])\n"
     ]
    },
    {
     "name": "stdout",
     "output_type": "stream",
     "text": [
      "WARNING:tensorflow:From C:\\Anaconda\\lib\\site-packages\\tensorflow\\python\\framework\\op_def_library.py:263: colocate_with (from tensorflow.python.framework.ops) is deprecated and will be removed in a future version.\n",
      "Instructions for updating:\n",
      "Colocations handled automatically by placer.\n"
     ]
    }
   ],
   "source": [
    "from keras.models import Sequential\n",
    "from keras.layers import Dense,Activation,Flatten\n",
    "from keras.layers import Conv2D,MaxPooling2D\n",
    "\n",
    "model=Sequential()\n",
    "\n",
    "model.add(Conv2D(256,(3,3),input_shape=data.shape[1:]))\n",
    "model.add(Activation('relu'))\n",
    "model.add(MaxPooling2D(pool_size=(2,2)))\n",
    "#The first CNN layer followed by Relu and MaxPooling layers\n",
    "\n",
    "model.add(Conv2D(128,(3,3)))\n",
    "model.add(Activation('relu'))\n",
    "model.add(MaxPooling2D(pool_size=(2,2)))\n",
    "#The second convolution layer followed by Relu and MaxPooling layers\n",
    "\n",
    "model.add(Flatten())\n",
    "#Flatten layer to stack the output convolutions from second convolution layer\n",
    "model.add(Dense(64,activation='relu'))\n",
    "#Dense layer of 64 neurons\n",
    "model.add(Dense(2,activation='softmax'))\n",
    "#The Final layer with two outputs for two categories\n",
    "\n",
    "model.compile(loss='categorical_crossentropy',optimizer='adam',metrics=['accuracy'])"
   ]
  },
  {
   "cell_type": "code",
   "execution_count": 3,
   "metadata": {},
   "outputs": [],
   "source": [
    "from sklearn.model_selection import train_test_split\n",
    "\n",
    "train_data,test_data,train_target,test_target=train_test_split(data,target,test_size=0.1)"
   ]
  },
  {
   "cell_type": "code",
   "execution_count": 4,
   "metadata": {},
   "outputs": [
    {
     "name": "stdout",
     "output_type": "stream",
     "text": [
      "WARNING:tensorflow:From C:\\Anaconda\\lib\\site-packages\\tensorflow\\python\\ops\\math_ops.py:3066: to_int32 (from tensorflow.python.ops.math_ops) is deprecated and will be removed in a future version.\n",
      "Instructions for updating:\n",
      "Use tf.cast instead.\n",
      "Train on 554 samples, validate on 139 samples\n",
      "Epoch 1/100\n",
      "554/554 [==============================] - 50s 91ms/step - loss: 0.6992 - acc: 0.5505 - val_loss: 0.7003 - val_acc: 0.4964\n",
      "Epoch 2/100\n",
      "554/554 [==============================] - 41s 73ms/step - loss: 0.6652 - acc: 0.5632 - val_loss: 0.6600 - val_acc: 0.4964\n",
      "Epoch 3/100\n",
      "554/554 [==============================] - 41s 75ms/step - loss: 0.6461 - acc: 0.5939 - val_loss: 0.6420 - val_acc: 0.5252\n",
      "Epoch 4/100\n",
      "554/554 [==============================] - 49s 88ms/step - loss: 0.5854 - acc: 0.6498 - val_loss: 0.5867 - val_acc: 0.6763\n",
      "Epoch 5/100\n",
      "554/554 [==============================] - 56s 102ms/step - loss: 0.5740 - acc: 0.6625 - val_loss: 0.5628 - val_acc: 0.7266\n",
      "Epoch 6/100\n",
      "554/554 [==============================] - 40s 72ms/step - loss: 0.5166 - acc: 0.7220 - val_loss: 0.5371 - val_acc: 0.7698\n",
      "Epoch 7/100\n",
      "554/554 [==============================] - 44s 79ms/step - loss: 0.4492 - acc: 0.7816 - val_loss: 0.4730 - val_acc: 0.7770\n",
      "Epoch 8/100\n",
      "554/554 [==============================] - 63s 114ms/step - loss: 0.4112 - acc: 0.8123 - val_loss: 0.5069 - val_acc: 0.7266\n",
      "Epoch 9/100\n",
      "554/554 [==============================] - 63s 113ms/step - loss: 0.4057 - acc: 0.7978 - val_loss: 0.5093 - val_acc: 0.7338\n",
      "Epoch 10/100\n",
      "554/554 [==============================] - 63s 114ms/step - loss: 0.3594 - acc: 0.8357 - val_loss: 0.5202 - val_acc: 0.7842\n",
      "Epoch 11/100\n",
      "554/554 [==============================] - 64s 115ms/step - loss: 0.3729 - acc: 0.8267 - val_loss: 0.4944 - val_acc: 0.7554\n",
      "Epoch 12/100\n",
      "554/554 [==============================] - 63s 114ms/step - loss: 0.3434 - acc: 0.8484 - val_loss: 0.5624 - val_acc: 0.7626\n",
      "Epoch 13/100\n",
      "554/554 [==============================] - 63s 114ms/step - loss: 0.3146 - acc: 0.8664 - val_loss: 0.5269 - val_acc: 0.7842\n",
      "Epoch 14/100\n",
      "554/554 [==============================] - 63s 114ms/step - loss: 0.3267 - acc: 0.8466 - val_loss: 0.5170 - val_acc: 0.7338\n",
      "Epoch 15/100\n",
      "554/554 [==============================] - 63s 114ms/step - loss: 0.3075 - acc: 0.8610 - val_loss: 0.4699 - val_acc: 0.7554\n",
      "Epoch 16/100\n",
      "554/554 [==============================] - 64s 115ms/step - loss: 0.2696 - acc: 0.8773 - val_loss: 0.5389 - val_acc: 0.7986\n",
      "Epoch 17/100\n",
      "554/554 [==============================] - 64s 115ms/step - loss: 0.2783 - acc: 0.8773 - val_loss: 0.5189 - val_acc: 0.7698\n",
      "Epoch 18/100\n",
      "554/554 [==============================] - 64s 116ms/step - loss: 0.2404 - acc: 0.9061 - val_loss: 0.5574 - val_acc: 0.7842\n",
      "Epoch 19/100\n",
      "554/554 [==============================] - 64s 115ms/step - loss: 0.1979 - acc: 0.9278 - val_loss: 0.5760 - val_acc: 0.7554\n",
      "Epoch 20/100\n",
      "554/554 [==============================] - 64s 115ms/step - loss: 0.2024 - acc: 0.9206 - val_loss: 0.5459 - val_acc: 0.7842\n",
      "Epoch 21/100\n",
      "554/554 [==============================] - 63s 113ms/step - loss: 0.1534 - acc: 0.9368 - val_loss: 0.5830 - val_acc: 0.7914\n",
      "Epoch 22/100\n",
      "554/554 [==============================] - 64s 115ms/step - loss: 0.1587 - acc: 0.9386 - val_loss: 0.6346 - val_acc: 0.7338\n",
      "Epoch 23/100\n",
      "554/554 [==============================] - 63s 114ms/step - loss: 0.1343 - acc: 0.9495 - val_loss: 0.6664 - val_acc: 0.7482\n",
      "Epoch 24/100\n",
      "554/554 [==============================] - 64s 115ms/step - loss: 0.1341 - acc: 0.9531 - val_loss: 0.6593 - val_acc: 0.7626\n",
      "Epoch 25/100\n",
      "554/554 [==============================] - 63s 114ms/step - loss: 0.1074 - acc: 0.9639 - val_loss: 0.7127 - val_acc: 0.7410\n",
      "Epoch 26/100\n",
      "554/554 [==============================] - 63s 113ms/step - loss: 0.0831 - acc: 0.9747 - val_loss: 0.7603 - val_acc: 0.7698\n",
      "Epoch 27/100\n",
      "554/554 [==============================] - 63s 114ms/step - loss: 0.0762 - acc: 0.9765 - val_loss: 0.6850 - val_acc: 0.7698\n",
      "Epoch 28/100\n",
      "554/554 [==============================] - 64s 115ms/step - loss: 0.0739 - acc: 0.9801 - val_loss: 0.8167 - val_acc: 0.7986\n",
      "Epoch 29/100\n",
      "554/554 [==============================] - 63s 113ms/step - loss: 0.0440 - acc: 0.9928 - val_loss: 0.8573 - val_acc: 0.7698\n",
      "Epoch 30/100\n",
      "554/554 [==============================] - 65s 116ms/step - loss: 0.0255 - acc: 1.0000 - val_loss: 0.9067 - val_acc: 0.7770\n",
      "Epoch 31/100\n",
      "554/554 [==============================] - 64s 115ms/step - loss: 0.0235 - acc: 0.9964 - val_loss: 1.0111 - val_acc: 0.7410\n",
      "Epoch 32/100\n",
      "554/554 [==============================] - 64s 116ms/step - loss: 0.0199 - acc: 1.0000 - val_loss: 0.8556 - val_acc: 0.7626\n",
      "Epoch 33/100\n",
      "554/554 [==============================] - 69s 125ms/step - loss: 0.0171 - acc: 1.0000 - val_loss: 0.9945 - val_acc: 0.7482\n",
      "Epoch 34/100\n",
      "554/554 [==============================] - 64s 115ms/step - loss: 0.0100 - acc: 1.0000 - val_loss: 0.9605 - val_acc: 0.7626\n",
      "Epoch 35/100\n",
      "554/554 [==============================] - 64s 116ms/step - loss: 0.0070 - acc: 1.0000 - val_loss: 1.0250 - val_acc: 0.7626\n",
      "Epoch 36/100\n",
      "554/554 [==============================] - 63s 114ms/step - loss: 0.0065 - acc: 1.0000 - val_loss: 1.0465 - val_acc: 0.7770\n",
      "Epoch 37/100\n",
      "554/554 [==============================] - 65s 116ms/step - loss: 0.0058 - acc: 1.0000 - val_loss: 1.0307 - val_acc: 0.7842\n",
      "Epoch 38/100\n",
      "554/554 [==============================] - 44s 80ms/step - loss: 0.0045 - acc: 1.0000 - val_loss: 1.0684 - val_acc: 0.7770\n",
      "Epoch 39/100\n",
      "554/554 [==============================] - 40s 72ms/step - loss: 0.0039 - acc: 1.0000 - val_loss: 1.0688 - val_acc: 0.7842\n",
      "Epoch 40/100\n",
      "554/554 [==============================] - 40s 72ms/step - loss: 0.0034 - acc: 1.0000 - val_loss: 1.0842 - val_acc: 0.7986\n",
      "Epoch 41/100\n",
      "554/554 [==============================] - 52s 94ms/step - loss: 0.0029 - acc: 1.0000 - val_loss: 1.1211 - val_acc: 0.7842\n",
      "Epoch 42/100\n",
      "554/554 [==============================] - 65s 117ms/step - loss: 0.0026 - acc: 1.0000 - val_loss: 1.1254 - val_acc: 0.7842\n",
      "Epoch 43/100\n",
      "554/554 [==============================] - 66s 118ms/step - loss: 0.0025 - acc: 1.0000 - val_loss: 1.1293 - val_acc: 0.7914\n",
      "Epoch 44/100\n",
      "554/554 [==============================] - 67s 121ms/step - loss: 0.0025 - acc: 1.0000 - val_loss: 1.1374 - val_acc: 0.7770\n",
      "Epoch 45/100\n",
      "554/554 [==============================] - 67s 121ms/step - loss: 0.0020 - acc: 1.0000 - val_loss: 1.1460 - val_acc: 0.7914\n",
      "Epoch 46/100\n",
      "554/554 [==============================] - 66s 119ms/step - loss: 0.0018 - acc: 1.0000 - val_loss: 1.1587 - val_acc: 0.8058\n",
      "Epoch 47/100\n",
      "554/554 [==============================] - 66s 118ms/step - loss: 0.0017 - acc: 1.0000 - val_loss: 1.1730 - val_acc: 0.7770\n",
      "Epoch 48/100\n",
      "554/554 [==============================] - 67s 120ms/step - loss: 0.0016 - acc: 1.0000 - val_loss: 1.1717 - val_acc: 0.7842\n",
      "Epoch 49/100\n",
      "554/554 [==============================] - 66s 119ms/step - loss: 0.0015 - acc: 1.0000 - val_loss: 1.1880 - val_acc: 0.7986\n",
      "Epoch 50/100\n",
      "554/554 [==============================] - 66s 119ms/step - loss: 0.0014 - acc: 1.0000 - val_loss: 1.1978 - val_acc: 0.7914\n",
      "Epoch 51/100\n",
      "554/554 [==============================] - 65s 118ms/step - loss: 0.0012 - acc: 1.0000 - val_loss: 1.1920 - val_acc: 0.7986\n",
      "Epoch 52/100\n",
      "554/554 [==============================] - 65s 118ms/step - loss: 0.0012 - acc: 1.0000 - val_loss: 1.2135 - val_acc: 0.7842\n",
      "Epoch 53/100\n",
      "554/554 [==============================] - 65s 118ms/step - loss: 0.0011 - acc: 1.0000 - val_loss: 1.2201 - val_acc: 0.7842\n",
      "Epoch 54/100\n",
      "554/554 [==============================] - 66s 119ms/step - loss: 0.0010 - acc: 1.0000 - val_loss: 1.2259 - val_acc: 0.7914\n",
      "Epoch 55/100\n",
      "554/554 [==============================] - 66s 119ms/step - loss: 9.7169e-04 - acc: 1.0000 - val_loss: 1.2420 - val_acc: 0.7842\n",
      "Epoch 56/100\n",
      "554/554 [==============================] - 66s 118ms/step - loss: 9.4639e-04 - acc: 1.0000 - val_loss: 1.2422 - val_acc: 0.7842\n",
      "Epoch 57/100\n",
      "554/554 [==============================] - 66s 119ms/step - loss: 8.6227e-04 - acc: 1.0000 - val_loss: 1.2534 - val_acc: 0.7842\n",
      "Epoch 58/100\n",
      "554/554 [==============================] - 46s 84ms/step - loss: 8.2996e-04 - acc: 1.0000 - val_loss: 1.2630 - val_acc: 0.7842\n"
     ]
    },
    {
     "name": "stdout",
     "output_type": "stream",
     "text": [
      "Epoch 59/100\n",
      "554/554 [==============================] - 10817s 20s/step - loss: 7.8694e-04 - acc: 1.0000 - val_loss: 1.2653 - val_acc: 0.7770\n",
      "Epoch 60/100\n",
      "554/554 [==============================] - 43s 77ms/step - loss: 7.5548e-04 - acc: 1.0000 - val_loss: 1.2725 - val_acc: 0.7842\n",
      "Epoch 61/100\n",
      "554/554 [==============================] - 58s 104ms/step - loss: 7.0896e-04 - acc: 1.0000 - val_loss: 1.2790 - val_acc: 0.7914\n",
      "Epoch 62/100\n",
      "554/554 [==============================] - 64s 116ms/step - loss: 6.7630e-04 - acc: 1.0000 - val_loss: 1.2897 - val_acc: 0.7770\n",
      "Epoch 63/100\n",
      "554/554 [==============================] - 64s 115ms/step - loss: 6.4189e-04 - acc: 1.0000 - val_loss: 1.2872 - val_acc: 0.7914\n",
      "Epoch 64/100\n",
      "554/554 [==============================] - 63s 115ms/step - loss: 6.1624e-04 - acc: 1.0000 - val_loss: 1.2975 - val_acc: 0.7842\n",
      "Epoch 65/100\n",
      "554/554 [==============================] - 63s 114ms/step - loss: 5.8605e-04 - acc: 1.0000 - val_loss: 1.3056 - val_acc: 0.7770\n",
      "Epoch 66/100\n",
      "554/554 [==============================] - 64s 115ms/step - loss: 5.6600e-04 - acc: 1.0000 - val_loss: 1.3011 - val_acc: 0.7842\n",
      "Epoch 67/100\n",
      "554/554 [==============================] - 46s 82ms/step - loss: 5.3848e-04 - acc: 1.0000 - val_loss: 1.3106 - val_acc: 0.7770\n",
      "Epoch 68/100\n",
      "554/554 [==============================] - 33s 60ms/step - loss: 5.0930e-04 - acc: 1.0000 - val_loss: 1.3217 - val_acc: 0.7770\n",
      "Epoch 69/100\n",
      "554/554 [==============================] - 24s 44ms/step - loss: 4.8455e-04 - acc: 1.0000 - val_loss: 1.3198 - val_acc: 0.7770\n",
      "Epoch 70/100\n",
      "554/554 [==============================] - 23s 42ms/step - loss: 4.8412e-04 - acc: 1.0000 - val_loss: 1.3342 - val_acc: 0.7698\n",
      "Epoch 71/100\n",
      "554/554 [==============================] - 25s 45ms/step - loss: 4.8990e-04 - acc: 1.0000 - val_loss: 1.3350 - val_acc: 0.7770\n",
      "Epoch 72/100\n",
      "554/554 [==============================] - 24s 44ms/step - loss: 4.3335e-04 - acc: 1.0000 - val_loss: 1.3408 - val_acc: 0.7842\n",
      "Epoch 73/100\n",
      "554/554 [==============================] - 24s 43ms/step - loss: 4.5954e-04 - acc: 1.0000 - val_loss: 1.3488 - val_acc: 0.7914\n",
      "Epoch 74/100\n",
      "554/554 [==============================] - 24s 44ms/step - loss: 4.0353e-04 - acc: 1.0000 - val_loss: 1.3558 - val_acc: 0.7770\n",
      "Epoch 75/100\n",
      "554/554 [==============================] - 25s 46ms/step - loss: 3.8570e-04 - acc: 1.0000 - val_loss: 1.3606 - val_acc: 0.7770\n",
      "Epoch 76/100\n",
      "554/554 [==============================] - 26s 46ms/step - loss: 3.7820e-04 - acc: 1.0000 - val_loss: 1.3662 - val_acc: 0.7842\n",
      "Epoch 77/100\n",
      "554/554 [==============================] - 25s 46ms/step - loss: 3.5849e-04 - acc: 1.0000 - val_loss: 1.3721 - val_acc: 0.7698\n",
      "Epoch 78/100\n",
      "554/554 [==============================] - 25s 45ms/step - loss: 3.5783e-04 - acc: 1.0000 - val_loss: 1.3768 - val_acc: 0.7770\n",
      "Epoch 79/100\n",
      "554/554 [==============================] - 26s 48ms/step - loss: 3.3433e-04 - acc: 1.0000 - val_loss: 1.3808 - val_acc: 0.7698\n",
      "Epoch 80/100\n",
      "554/554 [==============================] - 25s 45ms/step - loss: 3.1903e-04 - acc: 1.0000 - val_loss: 1.3816 - val_acc: 0.7842\n",
      "Epoch 81/100\n",
      "554/554 [==============================] - 25s 45ms/step - loss: 3.1246e-04 - acc: 1.0000 - val_loss: 1.3964 - val_acc: 0.7698\n",
      "Epoch 82/100\n",
      "554/554 [==============================] - 26s 47ms/step - loss: 2.9945e-04 - acc: 1.0000 - val_loss: 1.3964 - val_acc: 0.7770\n",
      "Epoch 83/100\n",
      "554/554 [==============================] - 25s 44ms/step - loss: 2.8965e-04 - acc: 1.0000 - val_loss: 1.3985 - val_acc: 0.7770\n",
      "Epoch 84/100\n",
      "554/554 [==============================] - 25s 46ms/step - loss: 2.8322e-04 - acc: 1.0000 - val_loss: 1.4078 - val_acc: 0.7770\n",
      "Epoch 85/100\n",
      "554/554 [==============================] - 26s 47ms/step - loss: 2.7172e-04 - acc: 1.0000 - val_loss: 1.4099 - val_acc: 0.7698\n",
      "Epoch 86/100\n",
      "554/554 [==============================] - 25s 45ms/step - loss: 2.7052e-04 - acc: 1.0000 - val_loss: 1.4073 - val_acc: 0.7914\n",
      "Epoch 87/100\n",
      "554/554 [==============================] - 26s 47ms/step - loss: 2.5730e-04 - acc: 1.0000 - val_loss: 1.4287 - val_acc: 0.7554\n",
      "Epoch 88/100\n",
      "554/554 [==============================] - 25s 44ms/step - loss: 2.4893e-04 - acc: 1.0000 - val_loss: 1.4233 - val_acc: 0.7842\n",
      "Epoch 89/100\n",
      "554/554 [==============================] - 25s 46ms/step - loss: 2.3969e-04 - acc: 1.0000 - val_loss: 1.4290 - val_acc: 0.7770\n",
      "Epoch 90/100\n",
      "554/554 [==============================] - 25s 46ms/step - loss: 2.3233e-04 - acc: 1.0000 - val_loss: 1.4253 - val_acc: 0.7770\n",
      "Epoch 91/100\n",
      "554/554 [==============================] - 24s 44ms/step - loss: 2.2606e-04 - acc: 1.0000 - val_loss: 1.4361 - val_acc: 0.7698\n",
      "Epoch 92/100\n",
      "554/554 [==============================] - 26s 46ms/step - loss: 2.1897e-04 - acc: 1.0000 - val_loss: 1.4412 - val_acc: 0.7770\n",
      "Epoch 93/100\n",
      "554/554 [==============================] - 24s 44ms/step - loss: 2.1486e-04 - acc: 1.0000 - val_loss: 1.4491 - val_acc: 0.7698\n",
      "Epoch 94/100\n",
      "554/554 [==============================] - 24s 44ms/step - loss: 2.1171e-04 - acc: 1.0000 - val_loss: 1.4483 - val_acc: 0.7698\n",
      "Epoch 95/100\n",
      "554/554 [==============================] - 26s 47ms/step - loss: 2.0135e-04 - acc: 1.0000 - val_loss: 1.4494 - val_acc: 0.7698\n",
      "Epoch 96/100\n",
      "554/554 [==============================] - 41s 74ms/step - loss: 1.9468e-04 - acc: 1.0000 - val_loss: 1.4553 - val_acc: 0.7842\n",
      "Epoch 97/100\n",
      "554/554 [==============================] - 94s 171ms/step - loss: 1.9236e-04 - acc: 1.0000 - val_loss: 1.4586 - val_acc: 0.7842\n",
      "Epoch 98/100\n",
      "554/554 [==============================] - 92s 165ms/step - loss: 1.9016e-04 - acc: 1.0000 - val_loss: 1.4664 - val_acc: 0.7554\n",
      "Epoch 99/100\n",
      "554/554 [==============================] - 95s 171ms/step - loss: 1.8010e-04 - acc: 1.0000 - val_loss: 1.4665 - val_acc: 0.7698\n",
      "Epoch 100/100\n",
      "554/554 [==============================] - 93s 168ms/step - loss: 1.7025e-04 - acc: 1.0000 - val_loss: 1.4734 - val_acc: 0.7698\n"
     ]
    }
   ],
   "source": [
    "history=model.fit(train_data,train_target,epochs=100,validation_split=0.2)"
   ]
  },
  {
   "cell_type": "code",
   "execution_count": 5,
   "metadata": {
    "scrolled": true
   },
   "outputs": [
    {
     "data": {
      "text/plain": [
       "[<matplotlib.lines.Line2D at 0x23e02527fc8>]"
      ]
     },
     "execution_count": 5,
     "metadata": {},
     "output_type": "execute_result"
    },
    {
     "data": {
      "image/png": "[encoded data removed]",
      "text/plain": [
       "<Figure size 432x288 with 1 Axes>"
      ]
     },
     "metadata": {
      "needs_background": "light"
     },
     "output_type": "display_data"
    }
   ],
   "source": [
    "from matplotlib import pyplot as plt\n",
    "plt.plot(history.history['loss'])\n",
    "plt.plot(history.history['val_loss'])"
   ]
  },
  {
   "cell_type": "code",
   "execution_count": 6,
   "metadata": {},
   "outputs": [
    {
     "data": {
      "text/plain": [
       "[<matplotlib.lines.Line2D at 0x23e025f2048>]"
      ]
     },
     "execution_count": 6,
     "metadata": {},
     "output_type": "execute_result"
    },
    {
     "data": {
      "image/png": "[encoded data removed]",
      "text/plain": [
       "<Figure size 432x288 with 1 Axes>"
      ]
     },
     "metadata": {
      "needs_background": "light"
     },
     "output_type": "display_data"
    }
   ],
   "source": [
    "plt.plot(history.history['acc'])\n",
    "plt.plot(history.history['val_acc'])"
   ]
  },
  {
   "cell_type": "code",
   "execution_count": 7,
   "metadata": {},
   "outputs": [
    {
     "name": "stdout",
     "output_type": "stream",
     "text": [
      "77/77 [==============================] - 1s 8ms/step\n",
      "[1.5427564568333811, 0.7792207815430381]\n"
     ]
    }
   ],
   "source": [
    "print(model.evaluate(test_data,test_target))"
   ]
  },
  {
   "cell_type": "code",
   "execution_count": 8,
   "metadata": {},
   "outputs": [],
   "source": [
    "model.save_weights('SANDRIANA LEAF CNN.h5')"
   ]
  },
  {
   "cell_type": "code",
   "execution_count": null,
   "metadata": {},
   "outputs": [],
   "source": []
  }
 ],
 "metadata": {
  "kernelspec": {
   "display_name": "Python 3",
   "language": "python",
   "name": "python3"
  },
  "language_info": {
   "codemirror_mode": {
    "name": "ipython",
    "version": 3
   },
   "file_extension": ".py",
   "mimetype": "text/x-python",
   "name": "python",
   "nbconvert_exporter": "python",
   "pygments_lexer": "ipython3",
   "version": "3.7.6"
  }
 },
 "nbformat": 4,
 "nbformat_minor": 4
}
