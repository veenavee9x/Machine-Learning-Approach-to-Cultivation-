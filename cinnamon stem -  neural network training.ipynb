{
 "cells": [
  {
   "cell_type": "code",
   "execution_count": 1,
   "metadata": {},
   "outputs": [],
   "source": [
    "import numpy as np\n",
    "\n",
    "data=np.load('data.npy')\n",
    "target=np.load('target.npy')"
   ]
  },
  {
   "cell_type": "code",
   "execution_count": 2,
   "metadata": {},
   "outputs": [
    {
     "name": "stderr",
     "output_type": "stream",
     "text": [
      "Using TensorFlow backend.\n",
      "C:\\Anaconda\\lib\\site-packages\\tensorflow\\python\\framework\\dtypes.py:526: FutureWarning: Passing (type, 1) or '1type' as a synonym of type is deprecated; in a future version of numpy, it will be understood as (type, (1,)) / '(1,)type'.\n",
      "  _np_qint8 = np.dtype([(\"qint8\", np.int8, 1)])\n",
      "C:\\Anaconda\\lib\\site-packages\\tensorflow\\python\\framework\\dtypes.py:527: FutureWarning: Passing (type, 1) or '1type' as a synonym of type is deprecated; in a future version of numpy, it will be understood as (type, (1,)) / '(1,)type'.\n",
      "  _np_quint8 = np.dtype([(\"quint8\", np.uint8, 1)])\n",
      "C:\\Anaconda\\lib\\site-packages\\tensorflow\\python\\framework\\dtypes.py:528: FutureWarning: Passing (type, 1) or '1type' as a synonym of type is deprecated; in a future version of numpy, it will be understood as (type, (1,)) / '(1,)type'.\n",
      "  _np_qint16 = np.dtype([(\"qint16\", np.int16, 1)])\n",
      "C:\\Anaconda\\lib\\site-packages\\tensorflow\\python\\framework\\dtypes.py:529: FutureWarning: Passing (type, 1) or '1type' as a synonym of type is deprecated; in a future version of numpy, it will be understood as (type, (1,)) / '(1,)type'.\n",
      "  _np_quint16 = np.dtype([(\"quint16\", np.uint16, 1)])\n",
      "C:\\Anaconda\\lib\\site-packages\\tensorflow\\python\\framework\\dtypes.py:530: FutureWarning: Passing (type, 1) or '1type' as a synonym of type is deprecated; in a future version of numpy, it will be understood as (type, (1,)) / '(1,)type'.\n",
      "  _np_qint32 = np.dtype([(\"qint32\", np.int32, 1)])\n",
      "C:\\Anaconda\\lib\\site-packages\\tensorflow\\python\\framework\\dtypes.py:535: FutureWarning: Passing (type, 1) or '1type' as a synonym of type is deprecated; in a future version of numpy, it will be understood as (type, (1,)) / '(1,)type'.\n",
      "  np_resource = np.dtype([(\"resource\", np.ubyte, 1)])\n"
     ]
    },
    {
     "name": "stdout",
     "output_type": "stream",
     "text": [
      "WARNING:tensorflow:From C:\\Anaconda\\lib\\site-packages\\tensorflow\\python\\framework\\op_def_library.py:263: colocate_with (from tensorflow.python.framework.ops) is deprecated and will be removed in a future version.\n",
      "Instructions for updating:\n",
      "Colocations handled automatically by placer.\n"
     ]
    }
   ],
   "source": [
    "from keras.models import Sequential\n",
    "from keras.layers import Dense,Activation,Flatten\n",
    "from keras.layers import Conv2D,MaxPooling2D\n",
    "\n",
    "model=Sequential()\n",
    "\n",
    "model.add(Conv2D(256,(3,3),input_shape=data.shape[1:]))\n",
    "model.add(Activation('relu'))\n",
    "model.add(MaxPooling2D(pool_size=(2,2)))\n",
    "#The first CNN layer followed by Relu and MaxPooling layers\n",
    "\n",
    "model.add(Conv2D(128,(3,3)))\n",
    "model.add(Activation('relu'))\n",
    "model.add(MaxPooling2D(pool_size=(2,2)))\n",
    "#The second convolution layer followed by Relu and MaxPooling layers\n",
    "\n",
    "model.add(Flatten())\n",
    "#Flatten layer to stack the output convolutions from second convolution layer\n",
    "model.add(Dense(64,activation='relu'))\n",
    "#Dense layer of 64 neurons\n",
    "model.add(Dense(2,activation='softmax'))\n",
    "#The Final layer with two outputs for two categories\n",
    "\n",
    "model.compile(loss='categorical_crossentropy',optimizer='adam',metrics=['accuracy'])"
   ]
  },
  {
   "cell_type": "code",
   "execution_count": 4,
   "metadata": {},
   "outputs": [],
   "source": [
    "from sklearn.model_selection import train_test_split\n",
    "\n",
    "train_data,test_data,train_target,test_target=train_test_split(data,target,test_size=0.1)"
   ]
  },
  {
   "cell_type": "code",
   "execution_count": 5,
   "metadata": {},
   "outputs": [
    {
     "name": "stdout",
     "output_type": "stream",
     "text": [
      "WARNING:tensorflow:From C:\\Anaconda\\lib\\site-packages\\tensorflow\\python\\ops\\math_ops.py:3066: to_int32 (from tensorflow.python.ops.math_ops) is deprecated and will be removed in a future version.\n",
      "Instructions for updating:\n",
      "Use tf.cast instead.\n",
      "Train on 554 samples, validate on 139 samples\n",
      "Epoch 1/100\n",
      "554/554 [==============================] - 17s 31ms/step - loss: 0.7064 - acc: 0.5072 - val_loss: 0.6945 - val_acc: 0.5036\n",
      "Epoch 2/100\n",
      "554/554 [==============================] - 15s 26ms/step - loss: 0.6923 - acc: 0.5614 - val_loss: 0.6927 - val_acc: 0.5036\n",
      "Epoch 3/100\n",
      "554/554 [==============================] - 15s 27ms/step - loss: 0.6884 - acc: 0.5614 - val_loss: 0.6969 - val_acc: 0.5036\n",
      "Epoch 4/100\n",
      "554/554 [==============================] - 15s 27ms/step - loss: 0.6794 - acc: 0.5614 - val_loss: 0.6799 - val_acc: 0.5036\n",
      "Epoch 5/100\n",
      "554/554 [==============================] - 16s 29ms/step - loss: 0.6659 - acc: 0.6227 - val_loss: 0.6595 - val_acc: 0.6835\n",
      "Epoch 6/100\n",
      "554/554 [==============================] - 16s 28ms/step - loss: 0.6474 - acc: 0.5776 - val_loss: 0.6650 - val_acc: 0.5036\n",
      "Epoch 7/100\n",
      "554/554 [==============================] - 16s 29ms/step - loss: 0.6168 - acc: 0.5614 - val_loss: 0.6842 - val_acc: 0.5036\n",
      "Epoch 8/100\n",
      "554/554 [==============================] - 16s 29ms/step - loss: 0.5988 - acc: 0.6137 - val_loss: 0.8577 - val_acc: 0.5036\n",
      "Epoch 9/100\n",
      "554/554 [==============================] - 16s 29ms/step - loss: 0.6060 - acc: 0.6498 - val_loss: 0.6401 - val_acc: 0.5612\n",
      "Epoch 10/100\n",
      "554/554 [==============================] - 16s 28ms/step - loss: 0.5590 - acc: 0.6949 - val_loss: 0.6066 - val_acc: 0.6619\n",
      "Epoch 11/100\n",
      "554/554 [==============================] - 16s 29ms/step - loss: 0.5330 - acc: 0.7184 - val_loss: 0.6166 - val_acc: 0.6763\n",
      "Epoch 12/100\n",
      "554/554 [==============================] - 16s 29ms/step - loss: 0.5171 - acc: 0.7310 - val_loss: 0.5980 - val_acc: 0.7194\n",
      "Epoch 13/100\n",
      "554/554 [==============================] - 16s 29ms/step - loss: 0.5249 - acc: 0.7455 - val_loss: 0.5706 - val_acc: 0.6835\n",
      "Epoch 14/100\n",
      "554/554 [==============================] - 16s 29ms/step - loss: 0.5159 - acc: 0.7491 - val_loss: 0.5660 - val_acc: 0.6906\n",
      "Epoch 15/100\n",
      "554/554 [==============================] - 16s 29ms/step - loss: 0.4861 - acc: 0.7780 - val_loss: 0.5533 - val_acc: 0.7194\n",
      "Epoch 16/100\n",
      "554/554 [==============================] - 16s 29ms/step - loss: 0.4671 - acc: 0.8051 - val_loss: 0.5374 - val_acc: 0.7194\n",
      "Epoch 17/100\n",
      "554/554 [==============================] - 16s 29ms/step - loss: 0.4644 - acc: 0.8069 - val_loss: 0.6061 - val_acc: 0.6835\n",
      "Epoch 18/100\n",
      "554/554 [==============================] - 21s 38ms/step - loss: 0.4447 - acc: 0.8213 - val_loss: 0.5204 - val_acc: 0.7770\n",
      "Epoch 19/100\n",
      "554/554 [==============================] - 27s 48ms/step - loss: 0.4336 - acc: 0.8105 - val_loss: 0.5095 - val_acc: 0.7626\n",
      "Epoch 20/100\n",
      "554/554 [==============================] - 27s 48ms/step - loss: 0.4299 - acc: 0.8069 - val_loss: 0.5319 - val_acc: 0.7410\n",
      "Epoch 21/100\n",
      "554/554 [==============================] - 19s 34ms/step - loss: 0.4094 - acc: 0.8430 - val_loss: 0.5005 - val_acc: 0.7986\n",
      "Epoch 22/100\n",
      "554/554 [==============================] - 16s 29ms/step - loss: 0.4004 - acc: 0.8412 - val_loss: 0.5109 - val_acc: 0.7554\n",
      "Epoch 23/100\n",
      "554/554 [==============================] - 16s 29ms/step - loss: 0.3792 - acc: 0.8610 - val_loss: 0.6177 - val_acc: 0.6978\n",
      "Epoch 24/100\n",
      "554/554 [==============================] - 16s 29ms/step - loss: 0.3862 - acc: 0.8628 - val_loss: 0.5134 - val_acc: 0.7698\n",
      "Epoch 25/100\n",
      "554/554 [==============================] - 16s 29ms/step - loss: 0.3711 - acc: 0.8484 - val_loss: 0.4854 - val_acc: 0.7698\n",
      "Epoch 26/100\n",
      "554/554 [==============================] - 16s 29ms/step - loss: 0.3437 - acc: 0.9007 - val_loss: 0.5768 - val_acc: 0.7338\n",
      "Epoch 27/100\n",
      "554/554 [==============================] - 15s 28ms/step - loss: 0.3270 - acc: 0.9025 - val_loss: 0.5171 - val_acc: 0.7554\n",
      "Epoch 28/100\n",
      "554/554 [==============================] - 17s 30ms/step - loss: 0.3096 - acc: 0.9116 - val_loss: 0.5497 - val_acc: 0.7554\n",
      "Epoch 29/100\n",
      "554/554 [==============================] - 16s 29ms/step - loss: 0.2924 - acc: 0.9440 - val_loss: 0.6277 - val_acc: 0.6835\n",
      "Epoch 30/100\n",
      "554/554 [==============================] - 29s 51ms/step - loss: 0.2788 - acc: 0.9404 - val_loss: 0.5001 - val_acc: 0.7698\n",
      "Epoch 31/100\n",
      "554/554 [==============================] - 44s 80ms/step - loss: 0.2723 - acc: 0.9513 - val_loss: 0.6244 - val_acc: 0.7122\n",
      "Epoch 32/100\n",
      "554/554 [==============================] - 47s 84ms/step - loss: 0.2538 - acc: 0.9567 - val_loss: 0.4898 - val_acc: 0.7698\n",
      "Epoch 33/100\n",
      "554/554 [==============================] - 38s 68ms/step - loss: 0.2457 - acc: 0.9567 - val_loss: 0.5881 - val_acc: 0.7698\n",
      "Epoch 34/100\n",
      "554/554 [==============================] - 40s 72ms/step - loss: 0.2392 - acc: 0.9639 - val_loss: 0.5998 - val_acc: 0.7266\n",
      "Epoch 35/100\n",
      "554/554 [==============================] - 42s 75ms/step - loss: 0.2198 - acc: 0.9657 - val_loss: 0.6131 - val_acc: 0.7338\n",
      "Epoch 36/100\n",
      "554/554 [==============================] - 43s 77ms/step - loss: 0.2105 - acc: 0.9765 - val_loss: 0.5576 - val_acc: 0.7698\n",
      "Epoch 37/100\n",
      "554/554 [==============================] - 61s 110ms/step - loss: 0.2019 - acc: 0.9783 - val_loss: 0.5335 - val_acc: 0.7770\n",
      "Epoch 38/100\n",
      "554/554 [==============================] - 42s 75ms/step - loss: 0.1930 - acc: 0.9801 - val_loss: 0.6837 - val_acc: 0.7410\n",
      "Epoch 39/100\n",
      "554/554 [==============================] - 41s 74ms/step - loss: 0.1851 - acc: 0.9801 - val_loss: 0.5776 - val_acc: 0.7626\n",
      "Epoch 40/100\n",
      "554/554 [==============================] - 57s 103ms/step - loss: 0.1759 - acc: 0.9856 - val_loss: 0.7068 - val_acc: 0.7482\n",
      "Epoch 41/100\n",
      "554/554 [==============================] - 63s 113ms/step - loss: 0.1681 - acc: 0.9892 - val_loss: 0.7474 - val_acc: 0.7338\n",
      "Epoch 42/100\n",
      "554/554 [==============================] - 63s 113ms/step - loss: 0.1645 - acc: 0.9874 - val_loss: 0.6774 - val_acc: 0.7626\n",
      "Epoch 43/100\n",
      "554/554 [==============================] - 63s 114ms/step - loss: 0.1607 - acc: 0.9892 - val_loss: 0.6020 - val_acc: 0.7626\n",
      "Epoch 44/100\n",
      "554/554 [==============================] - 63s 114ms/step - loss: 0.1532 - acc: 0.9910 - val_loss: 0.7362 - val_acc: 0.7554\n",
      "Epoch 45/100\n",
      "554/554 [==============================] - 63s 113ms/step - loss: 0.1442 - acc: 0.9928 - val_loss: 0.6151 - val_acc: 0.7770\n",
      "Epoch 46/100\n",
      "554/554 [==============================] - 64s 115ms/step - loss: 0.1403 - acc: 0.9928 - val_loss: 0.7040 - val_acc: 0.7554\n",
      "Epoch 47/100\n",
      "554/554 [==============================] - 64s 116ms/step - loss: 0.1359 - acc: 0.9928 - val_loss: 0.7642 - val_acc: 0.7410\n",
      "Epoch 48/100\n",
      "554/554 [==============================] - 63s 113ms/step - loss: 0.1311 - acc: 0.9946 - val_loss: 0.7660 - val_acc: 0.7338\n",
      "Epoch 49/100\n",
      "554/554 [==============================] - 63s 114ms/step - loss: 0.1267 - acc: 0.9946 - val_loss: 0.7474 - val_acc: 0.7338\n",
      "Epoch 50/100\n",
      "554/554 [==============================] - 63s 113ms/step - loss: 0.1280 - acc: 0.9946 - val_loss: 0.7642 - val_acc: 0.7482\n",
      "Epoch 51/100\n",
      "554/554 [==============================] - 63s 114ms/step - loss: 0.1218 - acc: 0.9946 - val_loss: 0.6009 - val_acc: 0.7914\n",
      "Epoch 52/100\n",
      "554/554 [==============================] - 63s 114ms/step - loss: 0.1177 - acc: 0.9964 - val_loss: 0.7266 - val_acc: 0.7842\n",
      "Epoch 53/100\n",
      "554/554 [==============================] - 64s 115ms/step - loss: 0.1123 - acc: 0.9964 - val_loss: 0.6690 - val_acc: 0.7698\n",
      "Epoch 54/100\n",
      "554/554 [==============================] - 63s 114ms/step - loss: 0.1086 - acc: 0.9964 - val_loss: 0.7207 - val_acc: 0.7698\n",
      "Epoch 55/100\n",
      "554/554 [==============================] - 63s 113ms/step - loss: 0.1054 - acc: 0.9964 - val_loss: 0.7389 - val_acc: 0.7698\n",
      "Epoch 56/100\n",
      "554/554 [==============================] - 63s 114ms/step - loss: 0.1018 - acc: 0.9982 - val_loss: 0.6825 - val_acc: 0.7626\n",
      "Epoch 57/100\n",
      "554/554 [==============================] - 64s 116ms/step - loss: 0.0999 - acc: 0.9964 - val_loss: 0.6391 - val_acc: 0.7770\n",
      "Epoch 58/100\n",
      "554/554 [==============================] - 63s 114ms/step - loss: 0.0971 - acc: 0.9982 - val_loss: 0.7290 - val_acc: 0.7554\n",
      "Epoch 59/100\n"
     ]
    },
    {
     "name": "stdout",
     "output_type": "stream",
     "text": [
      "554/554 [==============================] - 63s 113ms/step - loss: 0.0935 - acc: 0.9982 - val_loss: 0.7010 - val_acc: 0.7554\n",
      "Epoch 60/100\n",
      "554/554 [==============================] - 63s 114ms/step - loss: 0.0906 - acc: 1.0000 - val_loss: 0.7279 - val_acc: 0.7482\n",
      "Epoch 61/100\n",
      "554/554 [==============================] - 63s 113ms/step - loss: 0.0876 - acc: 1.0000 - val_loss: 0.6850 - val_acc: 0.7554\n",
      "Epoch 62/100\n",
      "554/554 [==============================] - 64s 116ms/step - loss: 0.0851 - acc: 1.0000 - val_loss: 0.7603 - val_acc: 0.7626\n",
      "Epoch 63/100\n",
      "554/554 [==============================] - 64s 115ms/step - loss: 0.0829 - acc: 1.0000 - val_loss: 0.7051 - val_acc: 0.7626\n",
      "Epoch 64/100\n",
      "554/554 [==============================] - 64s 115ms/step - loss: 0.0809 - acc: 1.0000 - val_loss: 0.8037 - val_acc: 0.7482\n",
      "Epoch 65/100\n",
      "554/554 [==============================] - 65s 117ms/step - loss: 0.0786 - acc: 1.0000 - val_loss: 0.6969 - val_acc: 0.7482\n",
      "Epoch 66/100\n",
      "554/554 [==============================] - 69s 124ms/step - loss: 0.0772 - acc: 1.0000 - val_loss: 0.7308 - val_acc: 0.7482\n",
      "Epoch 67/100\n",
      "554/554 [==============================] - 63s 115ms/step - loss: 0.0750 - acc: 1.0000 - val_loss: 0.8192 - val_acc: 0.7338\n",
      "Epoch 68/100\n",
      "554/554 [==============================] - 64s 115ms/step - loss: 0.0735 - acc: 1.0000 - val_loss: 0.7500 - val_acc: 0.7482\n",
      "Epoch 69/100\n",
      "554/554 [==============================] - 64s 116ms/step - loss: 0.0716 - acc: 1.0000 - val_loss: 0.7569 - val_acc: 0.7410\n",
      "Epoch 70/100\n",
      "554/554 [==============================] - 55s 100ms/step - loss: 0.0700 - acc: 1.0000 - val_loss: 0.7558 - val_acc: 0.7338\n",
      "Epoch 71/100\n",
      "554/554 [==============================] - 40s 71ms/step - loss: 0.0685 - acc: 1.0000 - val_loss: 0.7680 - val_acc: 0.7554\n",
      "Epoch 72/100\n",
      "554/554 [==============================] - 41s 73ms/step - loss: 0.0672 - acc: 1.0000 - val_loss: 0.7604 - val_acc: 0.7482\n",
      "Epoch 73/100\n",
      "554/554 [==============================] - 41s 74ms/step - loss: 0.0659 - acc: 1.0000 - val_loss: 0.6682 - val_acc: 0.7698\n",
      "Epoch 74/100\n",
      "554/554 [==============================] - 65s 118ms/step - loss: 0.0645 - acc: 1.0000 - val_loss: 0.7861 - val_acc: 0.7554\n",
      "Epoch 75/100\n",
      "554/554 [==============================] - 66s 119ms/step - loss: 0.0633 - acc: 1.0000 - val_loss: 0.6732 - val_acc: 0.7698\n",
      "Epoch 76/100\n",
      "554/554 [==============================] - 65s 118ms/step - loss: 0.0619 - acc: 1.0000 - val_loss: 0.7939 - val_acc: 0.7554\n",
      "Epoch 77/100\n",
      "554/554 [==============================] - 68s 123ms/step - loss: 0.0607 - acc: 1.0000 - val_loss: 0.8202 - val_acc: 0.7554\n",
      "Epoch 78/100\n",
      "554/554 [==============================] - 66s 119ms/step - loss: 0.0593 - acc: 1.0000 - val_loss: 0.8594 - val_acc: 0.7626\n",
      "Epoch 79/100\n",
      "554/554 [==============================] - 65s 118ms/step - loss: 0.0582 - acc: 1.0000 - val_loss: 0.8152 - val_acc: 0.7626\n",
      "Epoch 80/100\n",
      "554/554 [==============================] - 66s 120ms/step - loss: 0.0571 - acc: 1.0000 - val_loss: 0.8482 - val_acc: 0.7626\n",
      "Epoch 81/100\n",
      "554/554 [==============================] - 66s 119ms/step - loss: 0.0561 - acc: 1.0000 - val_loss: 0.7316 - val_acc: 0.7554\n",
      "Epoch 82/100\n",
      "554/554 [==============================] - 66s 119ms/step - loss: 0.0551 - acc: 1.0000 - val_loss: 0.7659 - val_acc: 0.7626\n",
      "Epoch 83/100\n",
      "554/554 [==============================] - 65s 117ms/step - loss: 0.0540 - acc: 1.0000 - val_loss: 0.7437 - val_acc: 0.7698\n",
      "Epoch 84/100\n",
      "554/554 [==============================] - 65s 117ms/step - loss: 0.0531 - acc: 1.0000 - val_loss: 0.7642 - val_acc: 0.7698\n",
      "Epoch 85/100\n",
      "554/554 [==============================] - 65s 118ms/step - loss: 0.0521 - acc: 1.0000 - val_loss: 0.7604 - val_acc: 0.7554\n",
      "Epoch 86/100\n",
      "554/554 [==============================] - 64s 116ms/step - loss: 0.0511 - acc: 1.0000 - val_loss: 0.7983 - val_acc: 0.7554\n",
      "Epoch 87/100\n",
      "554/554 [==============================] - 66s 118ms/step - loss: 0.0501 - acc: 1.0000 - val_loss: 0.8351 - val_acc: 0.7410\n",
      "Epoch 88/100\n",
      "554/554 [==============================] - 66s 118ms/step - loss: 0.0494 - acc: 1.0000 - val_loss: 0.7753 - val_acc: 0.7554\n",
      "Epoch 89/100\n",
      "554/554 [==============================] - 65s 118ms/step - loss: 0.0485 - acc: 1.0000 - val_loss: 0.7830 - val_acc: 0.7482\n",
      "Epoch 90/100\n",
      "554/554 [==============================] - 58s 104ms/step - loss: 0.0476 - acc: 1.0000 - val_loss: 0.7827 - val_acc: 0.7482\n",
      "Epoch 91/100\n",
      "554/554 [==============================] - 10812s 20s/step - loss: 0.0468 - acc: 1.0000 - val_loss: 0.8417 - val_acc: 0.7482\n",
      "Epoch 92/100\n",
      "554/554 [==============================] - 48s 86ms/step - loss: 0.0460 - acc: 1.0000 - val_loss: 0.8172 - val_acc: 0.7770\n",
      "Epoch 93/100\n",
      "554/554 [==============================] - 47s 85ms/step - loss: 0.0452 - acc: 1.0000 - val_loss: 0.8040 - val_acc: 0.7626\n",
      "Epoch 94/100\n",
      "554/554 [==============================] - 64s 115ms/step - loss: 0.0444 - acc: 1.0000 - val_loss: 0.7972 - val_acc: 0.7482\n",
      "Epoch 95/100\n",
      "554/554 [==============================] - 63s 114ms/step - loss: 0.0435 - acc: 1.0000 - val_loss: 0.8162 - val_acc: 0.7554\n",
      "Epoch 96/100\n",
      "554/554 [==============================] - 62s 112ms/step - loss: 0.0428 - acc: 1.0000 - val_loss: 0.8168 - val_acc: 0.7482\n",
      "Epoch 97/100\n",
      "554/554 [==============================] - 64s 115ms/step - loss: 0.0421 - acc: 1.0000 - val_loss: 0.7956 - val_acc: 0.7626\n",
      "Epoch 98/100\n",
      "554/554 [==============================] - 63s 114ms/step - loss: 0.0414 - acc: 1.0000 - val_loss: 0.8009 - val_acc: 0.7698\n",
      "Epoch 99/100\n",
      "554/554 [==============================] - 57s 103ms/step - loss: 0.0408 - acc: 1.0000 - val_loss: 0.7500 - val_acc: 0.7770\n",
      "Epoch 100/100\n",
      "554/554 [==============================] - 41s 75ms/step - loss: 0.0401 - acc: 1.0000 - val_loss: 0.8323 - val_acc: 0.7554\n"
     ]
    }
   ],
   "source": [
    "history=model.fit(train_data,train_target,epochs=100,validation_split=0.2)"
   ]
  },
  {
   "cell_type": "code",
   "execution_count": 6,
   "metadata": {},
   "outputs": [
    {
     "data": {
      "text/plain": [
       "[<matplotlib.lines.Line2D at 0x1b9de5e6648>]"
      ]
     },
     "execution_count": 6,
     "metadata": {},
     "output_type": "execute_result"
    },
    {
     "data": {
      "image/png": "[encoded data removed]",
      "text/plain": [
       "<Figure size 432x288 with 1 Axes>"
      ]
     },
     "metadata": {
      "needs_background": "light"
     },
     "output_type": "display_data"
    }
   ],
   "source": [
    "from matplotlib import pyplot as plt\n",
    "plt.plot(history.history['loss'])\n",
    "plt.plot(history.history['val_loss'])"
   ]
  },
  {
   "cell_type": "code",
   "execution_count": 7,
   "metadata": {},
   "outputs": [
    {
     "data": {
      "text/plain": [
       "[<matplotlib.lines.Line2D at 0x1b9e2a7efc8>]"
      ]
     },
     "execution_count": 7,
     "metadata": {},
     "output_type": "execute_result"
    },
    {
     "data": {
      "image/png": "[encoded data removed]",
      "text/plain": [
       "<Figure size 432x288 with 1 Axes>"
      ]
     },
     "metadata": {
      "needs_background": "light"
     },
     "output_type": "display_data"
    }
   ],
   "source": [
    "plt.plot(history.history['acc'])\n",
    "plt.plot(history.history['val_acc'])"
   ]
  },
  {
   "cell_type": "code",
   "execution_count": 8,
   "metadata": {},
   "outputs": [
    {
     "name": "stdout",
     "output_type": "stream",
     "text": [
      "77/77 [==============================] - 1s 10ms/step\n",
      "[0.5620687333020297, 0.857142859465116]\n"
     ]
    }
   ],
   "source": [
    "print(model.evaluate(test_data,test_target))"
   ]
  },
  {
   "cell_type": "code",
   "execution_count": 9,
   "metadata": {},
   "outputs": [],
   "source": [
    "model.save_weights('CINNOMON STEM CNN.h5')"
   ]
  },
  {
   "cell_type": "code",
   "execution_count": null,
   "metadata": {},
   "outputs": [],
   "source": []
  }
 ],
 "metadata": {
  "kernelspec": {
   "display_name": "Python 3",
   "language": "python",
   "name": "python3"
  },
  "language_info": {
   "codemirror_mode": {
    "name": "ipython",
    "version": 3
   },
   "file_extension": ".py",
   "mimetype": "text/x-python",
   "name": "python",
   "nbconvert_exporter": "python",
   "pygments_lexer": "ipython3",
   "version": "3.7.6"
  }
 },
 "nbformat": 4,
 "nbformat_minor": 4
}
