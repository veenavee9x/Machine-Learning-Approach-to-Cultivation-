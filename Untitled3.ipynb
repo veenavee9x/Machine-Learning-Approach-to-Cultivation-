{
 "cells": [
  {
   "cell_type": "code",
   "execution_count": 17,
   "metadata": {},
   "outputs": [],
   "source": [
    "import numpy as np\n",
    "\n",
    "data=np.load('data.npy')\n",
    "target=np.load('target.npy')"
   ]
  },
  {
   "cell_type": "code",
   "execution_count": 18,
   "metadata": {},
   "outputs": [],
   "source": [
    "from keras.models import Sequential\n",
    "from keras.layers import Dense,Activation,Flatten\n",
    "from keras.layers import Conv2D,MaxPooling2D\n",
    "\n",
    "model=Sequential()\n",
    "\n",
    "model.add(Conv2D(256,(3,3),input_shape=data.shape[1:]))\n",
    "model.add(Activation('relu'))\n",
    "model.add(MaxPooling2D(pool_size=(2,2)))\n",
    "#The first CNN layer followed by Relu and MaxPooling layers\n",
    "\n",
    "model.add(Conv2D(128,(3,3)))\n",
    "model.add(Activation('relu'))\n",
    "model.add(MaxPooling2D(pool_size=(2,2)))\n",
    "#The second convolution layer followed by Relu and MaxPooling layers\n",
    "\n",
    "model.add(Flatten())\n",
    "#Flatten layer to stack the output convolutions from second convolution layer\n",
    "model.add(Dense(64,activation='relu'))\n",
    "#Dense layer of 64 neurons\n",
    "model.add(Dense(2,activation='softmax'))\n",
    "#The Final layer with two outputs for two categories\n",
    "\n",
    "model.compile(loss='categorical_crossentropy',optimizer='adam',metrics=['accuracy'])"
   ]
  },
  {
   "cell_type": "code",
   "execution_count": 19,
   "metadata": {},
   "outputs": [],
   "source": [
    "from sklearn.model_selection import train_test_split\n",
    "\n",
    "train_data,test_data,train_target,test_target=train_test_split(data,target,test_size=0.1)"
   ]
  },
  {
   "cell_type": "code",
   "execution_count": 20,
   "metadata": {},
   "outputs": [
    {
     "name": "stdout",
     "output_type": "stream",
     "text": [
      "WARNING:tensorflow:From C:\\Anaconda\\lib\\site-packages\\tensorflow\\python\\ops\\math_ops.py:3066: to_int32 (from tensorflow.python.ops.math_ops) is deprecated and will be removed in a future version.\n",
      "Instructions for updating:\n",
      "Use tf.cast instead.\n",
      "Train on 164 samples, validate on 41 samples\n",
      "Epoch 1/60\n",
      "164/164 [==============================] - 8s 46ms/step - loss: 0.7735 - acc: 0.5610 - val_loss: 0.6575 - val_acc: 0.4390\n",
      "Epoch 2/60\n",
      "164/164 [==============================] - 4s 27ms/step - loss: 0.5789 - acc: 0.8110 - val_loss: 0.4059 - val_acc: 0.9756\n",
      "Epoch 3/60\n",
      "164/164 [==============================] - 5s 30ms/step - loss: 0.2731 - acc: 0.9512 - val_loss: 0.1860 - val_acc: 0.9268\n",
      "Epoch 4/60\n",
      "164/164 [==============================] - 5s 29ms/step - loss: 0.1358 - acc: 0.9634 - val_loss: 0.2575 - val_acc: 0.8780\n",
      "Epoch 5/60\n",
      "164/164 [==============================] - 4s 27ms/step - loss: 0.1914 - acc: 0.9329 - val_loss: 0.1084 - val_acc: 0.9268\n",
      "Epoch 6/60\n",
      "164/164 [==============================] - 5s 29ms/step - loss: 0.1052 - acc: 0.9634 - val_loss: 0.0513 - val_acc: 0.9756\n",
      "Epoch 7/60\n",
      "164/164 [==============================] - 4s 27ms/step - loss: 0.0379 - acc: 1.0000 - val_loss: 0.0599 - val_acc: 0.9756\n",
      "Epoch 8/60\n",
      "164/164 [==============================] - 4s 27ms/step - loss: 0.0118 - acc: 1.0000 - val_loss: 0.0302 - val_acc: 1.0000\n",
      "Epoch 9/60\n",
      "164/164 [==============================] - 4s 27ms/step - loss: 0.0066 - acc: 1.0000 - val_loss: 0.0341 - val_acc: 1.0000\n",
      "Epoch 10/60\n",
      "164/164 [==============================] - 5s 28ms/step - loss: 0.0044 - acc: 1.0000 - val_loss: 0.0158 - val_acc: 1.0000\n",
      "Epoch 11/60\n",
      "164/164 [==============================] - 5s 28ms/step - loss: 0.0029 - acc: 1.0000 - val_loss: 0.0143 - val_acc: 1.0000\n",
      "Epoch 12/60\n",
      "164/164 [==============================] - 5s 28ms/step - loss: 0.0017 - acc: 1.0000 - val_loss: 0.0132 - val_acc: 1.0000\n",
      "Epoch 13/60\n",
      "164/164 [==============================] - 4s 27ms/step - loss: 0.0013 - acc: 1.0000 - val_loss: 0.0064 - val_acc: 1.0000\n",
      "Epoch 14/60\n",
      "164/164 [==============================] - 4s 27ms/step - loss: 0.0011 - acc: 1.0000 - val_loss: 0.0115 - val_acc: 1.0000\n",
      "Epoch 15/60\n",
      "164/164 [==============================] - 5s 28ms/step - loss: 8.3171e-04 - acc: 1.0000 - val_loss: 0.0088 - val_acc: 1.0000\n",
      "Epoch 16/60\n",
      "164/164 [==============================] - 4s 27ms/step - loss: 6.6413e-04 - acc: 1.0000 - val_loss: 0.0065 - val_acc: 1.0000\n",
      "Epoch 17/60\n",
      "164/164 [==============================] - 4s 27ms/step - loss: 5.5035e-04 - acc: 1.0000 - val_loss: 0.0059 - val_acc: 1.0000\n",
      "Epoch 18/60\n",
      "164/164 [==============================] - 4s 27ms/step - loss: 4.5916e-04 - acc: 1.0000 - val_loss: 0.0052 - val_acc: 1.0000\n",
      "Epoch 19/60\n",
      "164/164 [==============================] - 4s 27ms/step - loss: 3.9993e-04 - acc: 1.0000 - val_loss: 0.0051 - val_acc: 1.0000\n",
      "Epoch 20/60\n",
      "164/164 [==============================] - 5s 28ms/step - loss: 3.4872e-04 - acc: 1.0000 - val_loss: 0.0046 - val_acc: 1.0000\n",
      "Epoch 21/60\n",
      "164/164 [==============================] - 5s 28ms/step - loss: 3.1722e-04 - acc: 1.0000 - val_loss: 0.0076 - val_acc: 1.0000\n",
      "Epoch 22/60\n",
      "164/164 [==============================] - 4s 27ms/step - loss: 2.9330e-04 - acc: 1.0000 - val_loss: 0.0025 - val_acc: 1.0000\n",
      "Epoch 23/60\n",
      "164/164 [==============================] - 4s 27ms/step - loss: 2.9790e-04 - acc: 1.0000 - val_loss: 0.0011 - val_acc: 1.0000\n",
      "Epoch 24/60\n",
      "164/164 [==============================] - 4s 27ms/step - loss: 3.0080e-04 - acc: 1.0000 - val_loss: 0.0015 - val_acc: 1.0000\n",
      "Epoch 25/60\n",
      "164/164 [==============================] - 5s 29ms/step - loss: 1.8973e-04 - acc: 1.0000 - val_loss: 0.0029 - val_acc: 1.0000\n",
      "Epoch 26/60\n",
      "164/164 [==============================] - 5s 27ms/step - loss: 1.9091e-04 - acc: 1.0000 - val_loss: 0.0036 - val_acc: 1.0000\n",
      "Epoch 27/60\n",
      "164/164 [==============================] - 4s 27ms/step - loss: 1.7183e-04 - acc: 1.0000 - val_loss: 0.0021 - val_acc: 1.0000\n",
      "Epoch 28/60\n",
      "164/164 [==============================] - 4s 27ms/step - loss: 1.2513e-04 - acc: 1.0000 - val_loss: 0.0013 - val_acc: 1.0000\n",
      "Epoch 29/60\n",
      "164/164 [==============================] - 5s 29ms/step - loss: 1.1145e-04 - acc: 1.0000 - val_loss: 8.7817e-04 - val_acc: 1.0000\n",
      "Epoch 30/60\n",
      "164/164 [==============================] - 4s 27ms/step - loss: 1.0402e-04 - acc: 1.0000 - val_loss: 7.6787e-04 - val_acc: 1.0000\n",
      "Epoch 31/60\n",
      "164/164 [==============================] - 4s 27ms/step - loss: 8.4546e-05 - acc: 1.0000 - val_loss: 8.3129e-04 - val_acc: 1.0000\n",
      "Epoch 32/60\n",
      "164/164 [==============================] - 4s 27ms/step - loss: 6.8741e-05 - acc: 1.0000 - val_loss: 0.0010 - val_acc: 1.0000\n",
      "Epoch 33/60\n",
      "164/164 [==============================] - 4s 27ms/step - loss: 6.6599e-05 - acc: 1.0000 - val_loss: 0.0012 - val_acc: 1.0000\n",
      "Epoch 34/60\n",
      "164/164 [==============================] - 4s 27ms/step - loss: 6.2391e-05 - acc: 1.0000 - val_loss: 0.0011 - val_acc: 1.0000\n",
      "Epoch 35/60\n",
      "164/164 [==============================] - 5s 28ms/step - loss: 5.7311e-05 - acc: 1.0000 - val_loss: 8.7390e-04 - val_acc: 1.0000\n",
      "Epoch 36/60\n",
      "164/164 [==============================] - 5s 28ms/step - loss: 5.3152e-05 - acc: 1.0000 - val_loss: 7.4523e-04 - val_acc: 1.0000\n",
      "Epoch 37/60\n",
      "164/164 [==============================] - 5s 27ms/step - loss: 4.9286e-05 - acc: 1.0000 - val_loss: 7.6600e-04 - val_acc: 1.0000\n",
      "Epoch 38/60\n",
      "164/164 [==============================] - 4s 27ms/step - loss: 4.6529e-05 - acc: 1.0000 - val_loss: 7.6992e-04 - val_acc: 1.0000\n",
      "Epoch 39/60\n",
      "164/164 [==============================] - 5s 28ms/step - loss: 4.3856e-05 - acc: 1.0000 - val_loss: 7.3362e-04 - val_acc: 1.0000\n",
      "Epoch 40/60\n",
      "164/164 [==============================] - 5s 29ms/step - loss: 4.1183e-05 - acc: 1.0000 - val_loss: 7.4263e-04 - val_acc: 1.0000\n",
      "Epoch 41/60\n",
      "164/164 [==============================] - 4s 27ms/step - loss: 3.8455e-05 - acc: 1.0000 - val_loss: 6.8423e-04 - val_acc: 1.0000\n",
      "Epoch 42/60\n",
      "164/164 [==============================] - 4s 27ms/step - loss: 3.6581e-05 - acc: 1.0000 - val_loss: 5.7968e-04 - val_acc: 1.0000\n",
      "Epoch 43/60\n",
      "164/164 [==============================] - 5s 28ms/step - loss: 3.3687e-05 - acc: 1.0000 - val_loss: 5.7095e-04 - val_acc: 1.0000\n",
      "Epoch 44/60\n",
      "164/164 [==============================] - 4s 27ms/step - loss: 3.2115e-05 - acc: 1.0000 - val_loss: 5.5644e-04 - val_acc: 1.0000\n",
      "Epoch 45/60\n",
      "164/164 [==============================] - 4s 27ms/step - loss: 3.0449e-05 - acc: 1.0000 - val_loss: 5.4856e-04 - val_acc: 1.0000\n",
      "Epoch 46/60\n",
      "164/164 [==============================] - 4s 27ms/step - loss: 2.9347e-05 - acc: 1.0000 - val_loss: 5.6322e-04 - val_acc: 1.0000\n",
      "Epoch 47/60\n",
      "164/164 [==============================] - 4s 27ms/step - loss: 2.7680e-05 - acc: 1.0000 - val_loss: 5.2841e-04 - val_acc: 1.0000\n",
      "Epoch 48/60\n",
      "164/164 [==============================] - 4s 27ms/step - loss: 2.6355e-05 - acc: 1.0000 - val_loss: 4.7953e-04 - val_acc: 1.0000\n",
      "Epoch 49/60\n",
      "164/164 [==============================] - 4s 27ms/step - loss: 2.5207e-05 - acc: 1.0000 - val_loss: 4.7135e-04 - val_acc: 1.0000\n",
      "Epoch 50/60\n",
      "164/164 [==============================] - 5s 28ms/step - loss: 2.3843e-05 - acc: 1.0000 - val_loss: 4.2561e-04 - val_acc: 1.0000\n",
      "Epoch 51/60\n",
      "164/164 [==============================] - 5s 27ms/step - loss: 2.2905e-05 - acc: 1.0000 - val_loss: 3.3676e-04 - val_acc: 1.0000\n",
      "Epoch 52/60\n",
      "164/164 [==============================] - 4s 27ms/step - loss: 2.2260e-05 - acc: 1.0000 - val_loss: 2.9904e-04 - val_acc: 1.0000\n",
      "Epoch 53/60\n",
      "164/164 [==============================] - 4s 27ms/step - loss: 2.1368e-05 - acc: 1.0000 - val_loss: 2.9730e-04 - val_acc: 1.0000\n",
      "Epoch 54/60\n",
      "164/164 [==============================] - 5s 28ms/step - loss: 2.0080e-05 - acc: 1.0000 - val_loss: 3.1156e-04 - val_acc: 1.0000\n",
      "Epoch 55/60\n",
      "164/164 [==============================] - 5s 28ms/step - loss: 1.9082e-05 - acc: 1.0000 - val_loss: 3.9649e-04 - val_acc: 1.0000\n",
      "Epoch 56/60\n",
      "164/164 [==============================] - 5s 28ms/step - loss: 1.7950e-05 - acc: 1.0000 - val_loss: 3.7499e-04 - val_acc: 1.0000\n",
      "Epoch 57/60\n",
      "164/164 [==============================] - 5s 28ms/step - loss: 1.7112e-05 - acc: 1.0000 - val_loss: 3.3535e-04 - val_acc: 1.0000\n"
     ]
    },
    {
     "name": "stdout",
     "output_type": "stream",
     "text": [
      "Epoch 58/60\n",
      "164/164 [==============================] - 4s 27ms/step - loss: 1.6138e-05 - acc: 1.0000 - val_loss: 3.0194e-04 - val_acc: 1.0000\n",
      "Epoch 59/60\n",
      "164/164 [==============================] - 4s 27ms/step - loss: 1.5448e-05 - acc: 1.0000 - val_loss: 2.7763e-04 - val_acc: 1.0000\n",
      "Epoch 60/60\n",
      "164/164 [==============================] - 4s 27ms/step - loss: 1.4952e-05 - acc: 1.0000 - val_loss: 2.5844e-04 - val_acc: 1.0000\n"
     ]
    }
   ],
   "source": [
    "history=model.fit(train_data,train_target,epochs=60,validation_split=0.2)"
   ]
  },
  {
   "cell_type": "code",
   "execution_count": 21,
   "metadata": {},
   "outputs": [
    {
     "data": {
      "text/plain": [
       "[<matplotlib.lines.Line2D at 0x1ae333359c8>]"
      ]
     },
     "execution_count": 21,
     "metadata": {},
     "output_type": "execute_result"
    },
    {
     "data": {
      "image/png": "[encoded data removed]",
      "text/plain": [
       "<Figure size 432x288 with 1 Axes>"
      ]
     },
     "metadata": {
      "needs_background": "light"
     },
     "output_type": "display_data"
    }
   ],
   "source": [
    "from matplotlib import pyplot as plt\n",
    "plt.plot(history.history['loss'])\n",
    "plt.plot(history.history['val_loss'])"
   ]
  },
  {
   "cell_type": "code",
   "execution_count": 22,
   "metadata": {},
   "outputs": [
    {
     "data": {
      "text/plain": [
       "[<matplotlib.lines.Line2D at 0x1ae33ad36c8>]"
      ]
     },
     "execution_count": 22,
     "metadata": {},
     "output_type": "execute_result"
    },
    {
     "data": {
      "image/png": "[encoded data removed]",
      "text/plain": [
       "<Figure size 432x288 with 1 Axes>"
      ]
     },
     "metadata": {
      "needs_background": "light"
     },
     "output_type": "display_data"
    }
   ],
   "source": [
    "plt.plot(history.history['acc'])\n",
    "plt.plot(history.history['val_acc'])"
   ]
  },
  {
   "cell_type": "code",
   "execution_count": 25,
   "metadata": {},
   "outputs": [
    {
     "name": "stdout",
     "output_type": "stream",
     "text": [
      "23/23 [==============================] - 0s 7ms/step\n",
      "[0.00025588550488464534, 1.0]\n"
     ]
    }
   ],
   "source": [
    "print(model.evaluate(test_data,test_target))"
   ]
  },
  {
   "cell_type": "code",
   "execution_count": 26,
   "metadata": {},
   "outputs": [],
   "source": [
    "model.save_weights('ERROR CNN.h5')"
   ]
  },
  {
   "cell_type": "code",
   "execution_count": null,
   "metadata": {},
   "outputs": [],
   "source": []
  }
 ],
 "metadata": {
  "kernelspec": {
   "display_name": "Python 3",
   "language": "python",
   "name": "python3"
  },
  "language_info": {
   "codemirror_mode": {
    "name": "ipython",
    "version": 3
   },
   "file_extension": ".py",
   "mimetype": "text/x-python",
   "name": "python",
   "nbconvert_exporter": "python",
   "pygments_lexer": "ipython3",
   "version": "3.7.6"
  }
 },
 "nbformat": 4,
 "nbformat_minor": 4
}
