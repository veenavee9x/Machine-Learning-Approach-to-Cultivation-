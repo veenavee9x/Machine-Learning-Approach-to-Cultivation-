{
 "cells": [
  {
   "cell_type": "code",
   "execution_count": 1,
   "metadata": {},
   "outputs": [],
   "source": [
    "import numpy as np\n",
    "\n",
    "data=np.load('data.npy')\n",
    "target=np.load('target.npy')"
   ]
  },
  {
   "cell_type": "code",
   "execution_count": 2,
   "metadata": {},
   "outputs": [
    {
     "name": "stderr",
     "output_type": "stream",
     "text": [
      "Using TensorFlow backend.\n",
      "C:\\Anaconda\\lib\\site-packages\\tensorflow\\python\\framework\\dtypes.py:526: FutureWarning: Passing (type, 1) or '1type' as a synonym of type is deprecated; in a future version of numpy, it will be understood as (type, (1,)) / '(1,)type'.\n",
      "  _np_qint8 = np.dtype([(\"qint8\", np.int8, 1)])\n",
      "C:\\Anaconda\\lib\\site-packages\\tensorflow\\python\\framework\\dtypes.py:527: FutureWarning: Passing (type, 1) or '1type' as a synonym of type is deprecated; in a future version of numpy, it will be understood as (type, (1,)) / '(1,)type'.\n",
      "  _np_quint8 = np.dtype([(\"quint8\", np.uint8, 1)])\n",
      "C:\\Anaconda\\lib\\site-packages\\tensorflow\\python\\framework\\dtypes.py:528: FutureWarning: Passing (type, 1) or '1type' as a synonym of type is deprecated; in a future version of numpy, it will be understood as (type, (1,)) / '(1,)type'.\n",
      "  _np_qint16 = np.dtype([(\"qint16\", np.int16, 1)])\n",
      "C:\\Anaconda\\lib\\site-packages\\tensorflow\\python\\framework\\dtypes.py:529: FutureWarning: Passing (type, 1) or '1type' as a synonym of type is deprecated; in a future version of numpy, it will be understood as (type, (1,)) / '(1,)type'.\n",
      "  _np_quint16 = np.dtype([(\"quint16\", np.uint16, 1)])\n",
      "C:\\Anaconda\\lib\\site-packages\\tensorflow\\python\\framework\\dtypes.py:530: FutureWarning: Passing (type, 1) or '1type' as a synonym of type is deprecated; in a future version of numpy, it will be understood as (type, (1,)) / '(1,)type'.\n",
      "  _np_qint32 = np.dtype([(\"qint32\", np.int32, 1)])\n",
      "C:\\Anaconda\\lib\\site-packages\\tensorflow\\python\\framework\\dtypes.py:535: FutureWarning: Passing (type, 1) or '1type' as a synonym of type is deprecated; in a future version of numpy, it will be understood as (type, (1,)) / '(1,)type'.\n",
      "  np_resource = np.dtype([(\"resource\", np.ubyte, 1)])\n"
     ]
    },
    {
     "name": "stdout",
     "output_type": "stream",
     "text": [
      "WARNING:tensorflow:From C:\\Anaconda\\lib\\site-packages\\tensorflow\\python\\framework\\op_def_library.py:263: colocate_with (from tensorflow.python.framework.ops) is deprecated and will be removed in a future version.\n",
      "Instructions for updating:\n",
      "Colocations handled automatically by placer.\n"
     ]
    }
   ],
   "source": [
    "from keras.models import Sequential\n",
    "from keras.layers import Dense,Activation,Flatten\n",
    "from keras.layers import Conv2D,MaxPooling2D\n",
    "\n",
    "model=Sequential()\n",
    "\n",
    "model.add(Conv2D(256,(3,3),input_shape=data.shape[1:]))\n",
    "model.add(Activation('relu'))\n",
    "model.add(MaxPooling2D(pool_size=(2,2)))\n",
    "#The first CNN layer followed by Relu and MaxPooling layers\n",
    "\n",
    "model.add(Conv2D(128,(3,3)))\n",
    "model.add(Activation('relu'))\n",
    "model.add(MaxPooling2D(pool_size=(2,2)))\n",
    "#The second convolution layer followed by Relu and MaxPooling layers\n",
    "\n",
    "model.add(Flatten())\n",
    "#Flatten layer to stack the output convolutions from second convolution layer\n",
    "model.add(Dense(64,activation='relu'))\n",
    "#Dense layer of 64 neurons\n",
    "model.add(Dense(2,activation='softmax'))\n",
    "#The Final layer with two outputs for two categories\n",
    "\n",
    "model.compile(loss='categorical_crossentropy',optimizer='adam',metrics=['accuracy'])"
   ]
  },
  {
   "cell_type": "code",
   "execution_count": 3,
   "metadata": {},
   "outputs": [],
   "source": [
    "from sklearn.model_selection import train_test_split\n",
    "\n",
    "train_data,test_data,train_target,test_target=train_test_split(data,target,test_size=0.1)"
   ]
  },
  {
   "cell_type": "code",
   "execution_count": 4,
   "metadata": {},
   "outputs": [
    {
     "name": "stdout",
     "output_type": "stream",
     "text": [
      "WARNING:tensorflow:From C:\\Anaconda\\lib\\site-packages\\tensorflow\\python\\ops\\math_ops.py:3066: to_int32 (from tensorflow.python.ops.math_ops) is deprecated and will be removed in a future version.\n",
      "Instructions for updating:\n",
      "Use tf.cast instead.\n",
      "Train on 384 samples, validate on 96 samples\n",
      "Epoch 1/100\n",
      "384/384 [==============================] - 23s 59ms/step - loss: 0.6662 - acc: 0.6484 - val_loss: 0.6274 - val_acc: 0.6562\n",
      "Epoch 2/100\n",
      "384/384 [==============================] - 32s 82ms/step - loss: 0.5890 - acc: 0.6797 - val_loss: 0.5601 - val_acc: 0.7708\n",
      "Epoch 3/100\n",
      "384/384 [==============================] - 30s 79ms/step - loss: 0.5413 - acc: 0.7083 - val_loss: 0.5050 - val_acc: 0.7500\n",
      "Epoch 4/100\n",
      "384/384 [==============================] - 33s 85ms/step - loss: 0.4761 - acc: 0.7760 - val_loss: 0.5719 - val_acc: 0.6562\n",
      "Epoch 5/100\n",
      "384/384 [==============================] - 25s 66ms/step - loss: 0.4517 - acc: 0.7656 - val_loss: 0.4099 - val_acc: 0.8542\n",
      "Epoch 6/100\n",
      "384/384 [==============================] - 28s 73ms/step - loss: 0.3299 - acc: 0.8698 - val_loss: 0.4252 - val_acc: 0.7708\n",
      "Epoch 7/100\n",
      "384/384 [==============================] - 28s 73ms/step - loss: 0.3010 - acc: 0.8828 - val_loss: 0.2953 - val_acc: 0.9167\n",
      "Epoch 8/100\n",
      "384/384 [==============================] - 29s 75ms/step - loss: 0.1892 - acc: 0.9427 - val_loss: 0.2442 - val_acc: 0.9062\n",
      "Epoch 9/100\n",
      "384/384 [==============================] - 29s 75ms/step - loss: 0.1489 - acc: 0.9583 - val_loss: 0.2551 - val_acc: 0.9167\n",
      "Epoch 10/100\n",
      "384/384 [==============================] - 32s 84ms/step - loss: 0.1018 - acc: 0.9661 - val_loss: 0.2653 - val_acc: 0.9167\n",
      "Epoch 11/100\n",
      "384/384 [==============================] - 46s 119ms/step - loss: 0.0765 - acc: 0.9766 - val_loss: 0.2514 - val_acc: 0.9167\n",
      "Epoch 12/100\n",
      "384/384 [==============================] - 31s 80ms/step - loss: 0.0461 - acc: 1.0000 - val_loss: 0.2426 - val_acc: 0.9271\n",
      "Epoch 13/100\n",
      "384/384 [==============================] - 27s 71ms/step - loss: 0.0369 - acc: 0.9922 - val_loss: 0.2803 - val_acc: 0.9167\n",
      "Epoch 14/100\n",
      "384/384 [==============================] - 29s 75ms/step - loss: 0.0261 - acc: 1.0000 - val_loss: 0.2656 - val_acc: 0.9271\n",
      "Epoch 15/100\n",
      "384/384 [==============================] - 37s 96ms/step - loss: 0.0315 - acc: 0.9948 - val_loss: 0.2306 - val_acc: 0.9167\n",
      "Epoch 16/100\n",
      "384/384 [==============================] - 44s 114ms/step - loss: 0.0494 - acc: 0.9844 - val_loss: 0.3573 - val_acc: 0.8854\n",
      "Epoch 17/100\n",
      "384/384 [==============================] - 44s 114ms/step - loss: 0.0403 - acc: 0.9922 - val_loss: 0.3390 - val_acc: 0.9375\n",
      "Epoch 18/100\n",
      "384/384 [==============================] - 44s 115ms/step - loss: 0.0178 - acc: 0.9948 - val_loss: 0.2915 - val_acc: 0.9271\n",
      "Epoch 19/100\n",
      "384/384 [==============================] - 43s 112ms/step - loss: 0.0111 - acc: 0.9974 - val_loss: 0.2377 - val_acc: 0.9062\n",
      "Epoch 20/100\n",
      "384/384 [==============================] - 44s 114ms/step - loss: 0.0071 - acc: 1.0000 - val_loss: 0.2325 - val_acc: 0.9271\n",
      "Epoch 21/100\n",
      "384/384 [==============================] - 44s 116ms/step - loss: 0.0043 - acc: 1.0000 - val_loss: 0.2490 - val_acc: 0.9167\n",
      "Epoch 22/100\n",
      "384/384 [==============================] - 44s 116ms/step - loss: 0.0031 - acc: 1.0000 - val_loss: 0.2495 - val_acc: 0.9167\n",
      "Epoch 23/100\n",
      "384/384 [==============================] - 43s 113ms/step - loss: 0.0033 - acc: 1.0000 - val_loss: 0.3142 - val_acc: 0.9375\n",
      "Epoch 24/100\n",
      "384/384 [==============================] - 44s 115ms/step - loss: 0.0022 - acc: 1.0000 - val_loss: 0.2753 - val_acc: 0.9271\n",
      "Epoch 25/100\n",
      "384/384 [==============================] - 44s 115ms/step - loss: 0.0020 - acc: 1.0000 - val_loss: 0.2682 - val_acc: 0.9271\n",
      "Epoch 26/100\n",
      "384/384 [==============================] - 44s 114ms/step - loss: 0.0016 - acc: 1.0000 - val_loss: 0.2640 - val_acc: 0.9167\n",
      "Epoch 27/100\n",
      "384/384 [==============================] - 44s 115ms/step - loss: 0.0015 - acc: 1.0000 - val_loss: 0.2886 - val_acc: 0.9271\n",
      "Epoch 28/100\n",
      "384/384 [==============================] - 44s 114ms/step - loss: 0.0013 - acc: 1.0000 - val_loss: 0.2971 - val_acc: 0.9271\n",
      "Epoch 29/100\n",
      "384/384 [==============================] - 44s 114ms/step - loss: 0.0012 - acc: 1.0000 - val_loss: 0.2964 - val_acc: 0.9271\n",
      "Epoch 30/100\n",
      "384/384 [==============================] - 44s 115ms/step - loss: 0.0010 - acc: 1.0000 - val_loss: 0.3113 - val_acc: 0.9271\n",
      "Epoch 31/100\n",
      "384/384 [==============================] - 44s 113ms/step - loss: 9.8793e-04 - acc: 1.0000 - val_loss: 0.2829 - val_acc: 0.9167\n",
      "Epoch 32/100\n",
      "384/384 [==============================] - 44s 114ms/step - loss: 8.7458e-04 - acc: 1.0000 - val_loss: 0.3159 - val_acc: 0.9271\n",
      "Epoch 33/100\n",
      "384/384 [==============================] - 44s 114ms/step - loss: 8.4244e-04 - acc: 1.0000 - val_loss: 0.3061 - val_acc: 0.9271\n",
      "Epoch 34/100\n",
      "384/384 [==============================] - 44s 115ms/step - loss: 8.0548e-04 - acc: 1.0000 - val_loss: 0.2945 - val_acc: 0.9167\n",
      "Epoch 35/100\n",
      "384/384 [==============================] - 43s 113ms/step - loss: 7.6321e-04 - acc: 1.0000 - val_loss: 0.3431 - val_acc: 0.9167\n",
      "Epoch 36/100\n",
      "384/384 [==============================] - 44s 115ms/step - loss: 7.5431e-04 - acc: 1.0000 - val_loss: 0.3258 - val_acc: 0.9271\n",
      "Epoch 37/100\n",
      "384/384 [==============================] - 44s 113ms/step - loss: 6.4795e-04 - acc: 1.0000 - val_loss: 0.3214 - val_acc: 0.9271\n",
      "Epoch 38/100\n",
      "384/384 [==============================] - 43s 113ms/step - loss: 5.7635e-04 - acc: 1.0000 - val_loss: 0.3162 - val_acc: 0.9167\n",
      "Epoch 39/100\n",
      "384/384 [==============================] - 45s 118ms/step - loss: 5.7009e-04 - acc: 1.0000 - val_loss: 0.3348 - val_acc: 0.9271\n",
      "Epoch 40/100\n",
      "384/384 [==============================] - 44s 113ms/step - loss: 5.6010e-04 - acc: 1.0000 - val_loss: 0.3420 - val_acc: 0.9271\n",
      "Epoch 41/100\n",
      "384/384 [==============================] - 44s 115ms/step - loss: 5.1206e-04 - acc: 1.0000 - val_loss: 0.3035 - val_acc: 0.9271\n",
      "Epoch 42/100\n",
      "384/384 [==============================] - 44s 113ms/step - loss: 5.3281e-04 - acc: 1.0000 - val_loss: 0.3412 - val_acc: 0.9271\n",
      "Epoch 43/100\n",
      "384/384 [==============================] - 44s 114ms/step - loss: 4.4295e-04 - acc: 1.0000 - val_loss: 0.3399 - val_acc: 0.9271\n",
      "Epoch 44/100\n",
      "384/384 [==============================] - 45s 117ms/step - loss: 4.2644e-04 - acc: 1.0000 - val_loss: 0.3258 - val_acc: 0.9167\n",
      "Epoch 45/100\n",
      "384/384 [==============================] - 44s 114ms/step - loss: 3.9284e-04 - acc: 1.0000 - val_loss: 0.3448 - val_acc: 0.9271\n",
      "Epoch 46/100\n",
      "384/384 [==============================] - 45s 116ms/step - loss: 3.6976e-04 - acc: 1.0000 - val_loss: 0.3461 - val_acc: 0.9271\n",
      "Epoch 47/100\n",
      "384/384 [==============================] - 44s 114ms/step - loss: 3.5025e-04 - acc: 1.0000 - val_loss: 0.3441 - val_acc: 0.9167\n",
      "Epoch 48/100\n",
      "384/384 [==============================] - 44s 116ms/step - loss: 3.4810e-04 - acc: 1.0000 - val_loss: 0.3429 - val_acc: 0.9167\n",
      "Epoch 49/100\n",
      "384/384 [==============================] - 44s 114ms/step - loss: 3.2057e-04 - acc: 1.0000 - val_loss: 0.3436 - val_acc: 0.9271\n",
      "Epoch 50/100\n",
      "384/384 [==============================] - 45s 116ms/step - loss: 3.0128e-04 - acc: 1.0000 - val_loss: 0.3495 - val_acc: 0.9271\n",
      "Epoch 51/100\n",
      "384/384 [==============================] - 44s 115ms/step - loss: 2.9180e-04 - acc: 1.0000 - val_loss: 0.3546 - val_acc: 0.9167\n",
      "Epoch 52/100\n",
      "384/384 [==============================] - 50s 130ms/step - loss: 2.8898e-04 - acc: 1.0000 - val_loss: 0.3387 - val_acc: 0.9167\n",
      "Epoch 53/100\n",
      "384/384 [==============================] - 44s 115ms/step - loss: 2.9029e-04 - acc: 1.0000 - val_loss: 0.3413 - val_acc: 0.9167\n",
      "Epoch 54/100\n",
      "384/384 [==============================] - 45s 116ms/step - loss: 2.9673e-04 - acc: 1.0000 - val_loss: 0.3377 - val_acc: 0.9167\n",
      "Epoch 55/100\n",
      "384/384 [==============================] - 45s 117ms/step - loss: 2.9038e-04 - acc: 1.0000 - val_loss: 0.3815 - val_acc: 0.9167\n",
      "Epoch 56/100\n",
      "384/384 [==============================] - 43s 113ms/step - loss: 2.4695e-04 - acc: 1.0000 - val_loss: 0.3485 - val_acc: 0.9271\n",
      "Epoch 57/100\n",
      "384/384 [==============================] - 44s 115ms/step - loss: 2.2845e-04 - acc: 1.0000 - val_loss: 0.3740 - val_acc: 0.9167\n",
      "Epoch 58/100\n"
     ]
    },
    {
     "name": "stdout",
     "output_type": "stream",
     "text": [
      "384/384 [==============================] - 45s 118ms/step - loss: 2.2114e-04 - acc: 1.0000 - val_loss: 0.3638 - val_acc: 0.9271\n",
      "Epoch 59/100\n",
      "384/384 [==============================] - 29s 77ms/step - loss: 2.1878e-04 - acc: 1.0000 - val_loss: 0.3505 - val_acc: 0.9167\n",
      "Epoch 60/100\n",
      "384/384 [==============================] - 28s 72ms/step - loss: 2.0708e-04 - acc: 1.0000 - val_loss: 0.3772 - val_acc: 0.9167\n",
      "Epoch 61/100\n",
      "384/384 [==============================] - 28s 72ms/step - loss: 2.0683e-04 - acc: 1.0000 - val_loss: 0.3655 - val_acc: 0.9167\n",
      "Epoch 62/100\n",
      "384/384 [==============================] - 28s 72ms/step - loss: 1.8714e-04 - acc: 1.0000 - val_loss: 0.3679 - val_acc: 0.9271\n",
      "Epoch 63/100\n",
      "384/384 [==============================] - 28s 73ms/step - loss: 1.8292e-04 - acc: 1.0000 - val_loss: 0.3666 - val_acc: 0.9271\n",
      "Epoch 64/100\n",
      "384/384 [==============================] - 45s 118ms/step - loss: 1.7426e-04 - acc: 1.0000 - val_loss: 0.3729 - val_acc: 0.9167\n",
      "Epoch 65/100\n",
      "384/384 [==============================] - 45s 118ms/step - loss: 1.7399e-04 - acc: 1.0000 - val_loss: 0.3691 - val_acc: 0.9271\n",
      "Epoch 66/100\n",
      "384/384 [==============================] - 45s 116ms/step - loss: 1.6920e-04 - acc: 1.0000 - val_loss: 0.3852 - val_acc: 0.9167\n",
      "Epoch 67/100\n",
      "384/384 [==============================] - 45s 117ms/step - loss: 1.7525e-04 - acc: 1.0000 - val_loss: 0.3874 - val_acc: 0.9167\n",
      "Epoch 68/100\n",
      "384/384 [==============================] - 47s 122ms/step - loss: 1.6774e-04 - acc: 1.0000 - val_loss: 0.3626 - val_acc: 0.9167\n",
      "Epoch 69/100\n",
      "384/384 [==============================] - 48s 124ms/step - loss: 1.4312e-04 - acc: 1.0000 - val_loss: 0.3946 - val_acc: 0.9167\n",
      "Epoch 70/100\n",
      "384/384 [==============================] - 46s 119ms/step - loss: 1.5642e-04 - acc: 1.0000 - val_loss: 0.3634 - val_acc: 0.9167\n",
      "Epoch 71/100\n",
      "384/384 [==============================] - 45s 118ms/step - loss: 1.5176e-04 - acc: 1.0000 - val_loss: 0.3738 - val_acc: 0.9271\n",
      "Epoch 72/100\n",
      "384/384 [==============================] - 45s 118ms/step - loss: 1.4015e-04 - acc: 1.0000 - val_loss: 0.3941 - val_acc: 0.9167\n",
      "Epoch 73/100\n",
      "384/384 [==============================] - 46s 119ms/step - loss: 1.3447e-04 - acc: 1.0000 - val_loss: 0.3813 - val_acc: 0.9271\n",
      "Epoch 74/100\n",
      "384/384 [==============================] - 45s 118ms/step - loss: 1.2493e-04 - acc: 1.0000 - val_loss: 0.3839 - val_acc: 0.9271\n",
      "Epoch 75/100\n",
      "384/384 [==============================] - 45s 118ms/step - loss: 1.2573e-04 - acc: 1.0000 - val_loss: 0.3920 - val_acc: 0.9167\n",
      "Epoch 76/100\n",
      "384/384 [==============================] - 45s 118ms/step - loss: 1.2091e-04 - acc: 1.0000 - val_loss: 0.3649 - val_acc: 0.9167\n",
      "Epoch 77/100\n",
      "384/384 [==============================] - 45s 116ms/step - loss: 1.2560e-04 - acc: 1.0000 - val_loss: 0.4011 - val_acc: 0.9167\n",
      "Epoch 78/100\n",
      "384/384 [==============================] - 46s 120ms/step - loss: 1.1425e-04 - acc: 1.0000 - val_loss: 0.3729 - val_acc: 0.9167\n",
      "Epoch 79/100\n",
      "384/384 [==============================] - 45s 117ms/step - loss: 1.1214e-04 - acc: 1.0000 - val_loss: 0.3885 - val_acc: 0.9167\n",
      "Epoch 80/100\n",
      "384/384 [==============================] - 45s 117ms/step - loss: 1.1012e-04 - acc: 1.0000 - val_loss: 0.3881 - val_acc: 0.9167\n",
      "Epoch 81/100\n",
      "384/384 [==============================] - 46s 119ms/step - loss: 1.1084e-04 - acc: 1.0000 - val_loss: 0.3795 - val_acc: 0.9271\n",
      "Epoch 82/100\n",
      "384/384 [==============================] - 45s 118ms/step - loss: 1.1328e-04 - acc: 1.0000 - val_loss: 0.4075 - val_acc: 0.9167\n",
      "Epoch 83/100\n",
      "384/384 [==============================] - 46s 119ms/step - loss: 1.0318e-04 - acc: 1.0000 - val_loss: 0.3809 - val_acc: 0.9167\n",
      "Epoch 84/100\n",
      "384/384 [==============================] - 44s 116ms/step - loss: 1.0662e-04 - acc: 1.0000 - val_loss: 0.4010 - val_acc: 0.9167\n",
      "Epoch 85/100\n",
      "384/384 [==============================] - 46s 119ms/step - loss: 9.8414e-05 - acc: 1.0000 - val_loss: 0.3841 - val_acc: 0.9271\n",
      "Epoch 86/100\n",
      "384/384 [==============================] - 45s 118ms/step - loss: 9.1993e-05 - acc: 1.0000 - val_loss: 0.3952 - val_acc: 0.9167\n",
      "Epoch 87/100\n",
      "384/384 [==============================] - 45s 118ms/step - loss: 9.1000e-05 - acc: 1.0000 - val_loss: 0.3909 - val_acc: 0.9271\n",
      "Epoch 88/100\n",
      "384/384 [==============================] - 31s 80ms/step - loss: 8.9488e-05 - acc: 1.0000 - val_loss: 0.3881 - val_acc: 0.9271\n",
      "Epoch 89/100\n",
      "384/384 [==============================] - 10799s 28s/step - loss: 9.1962e-05 - acc: 1.0000 - val_loss: 0.4078 - val_acc: 0.9167\n",
      "Epoch 90/100\n",
      "384/384 [==============================] - 35s 91ms/step - loss: 8.5517e-05 - acc: 1.0000 - val_loss: 0.3952 - val_acc: 0.9167\n",
      "Epoch 91/100\n",
      "384/384 [==============================] - 29s 75ms/step - loss: 8.0160e-05 - acc: 1.0000 - val_loss: 0.3978 - val_acc: 0.9167\n",
      "Epoch 92/100\n",
      "384/384 [==============================] - 35s 92ms/step - loss: 7.7699e-05 - acc: 1.0000 - val_loss: 0.3972 - val_acc: 0.9271\n",
      "Epoch 93/100\n",
      "384/384 [==============================] - 44s 116ms/step - loss: 7.8491e-05 - acc: 1.0000 - val_loss: 0.3924 - val_acc: 0.9271\n",
      "Epoch 94/100\n",
      "384/384 [==============================] - 44s 116ms/step - loss: 7.5969e-05 - acc: 1.0000 - val_loss: 0.4022 - val_acc: 0.9167\n",
      "Epoch 95/100\n",
      "384/384 [==============================] - 43s 113ms/step - loss: 7.3350e-05 - acc: 1.0000 - val_loss: 0.3923 - val_acc: 0.9271\n",
      "Epoch 96/100\n",
      "384/384 [==============================] - 45s 117ms/step - loss: 7.1029e-05 - acc: 1.0000 - val_loss: 0.4069 - val_acc: 0.9167\n",
      "Epoch 97/100\n",
      "384/384 [==============================] - 44s 114ms/step - loss: 7.0090e-05 - acc: 1.0000 - val_loss: 0.3950 - val_acc: 0.9271\n",
      "Epoch 98/100\n",
      "384/384 [==============================] - 44s 114ms/step - loss: 6.9400e-05 - acc: 1.0000 - val_loss: 0.4047 - val_acc: 0.9167\n",
      "Epoch 99/100\n",
      "384/384 [==============================] - 45s 116ms/step - loss: 6.9309e-05 - acc: 1.0000 - val_loss: 0.3967 - val_acc: 0.9271\n",
      "Epoch 100/100\n",
      "384/384 [==============================] - 44s 116ms/step - loss: 6.5907e-05 - acc: 1.0000 - val_loss: 0.4006 - val_acc: 0.9271\n"
     ]
    }
   ],
   "source": [
    "history=model.fit(train_data,train_target,epochs=100,validation_split=0.2)"
   ]
  },
  {
   "cell_type": "code",
   "execution_count": 10,
   "metadata": {},
   "outputs": [
    {
     "data": {
      "text/plain": [
       "[<matplotlib.lines.Line2D at 0x19168a48088>]"
      ]
     },
     "execution_count": 10,
     "metadata": {},
     "output_type": "execute_result"
    },
    {
     "data": {
      "image/png": "[encoded data removed]",
      "text/plain": [
       "<Figure size 432x288 with 1 Axes>"
      ]
     },
     "metadata": {
      "needs_background": "light"
     },
     "output_type": "display_data"
    }
   ],
   "source": [
    "from matplotlib import pyplot as plt\n",
    "plt.plot(history.history['loss'])\n",
    "plt.plot(history.history['val_loss'])"
   ]
  },
  {
   "cell_type": "code",
   "execution_count": 11,
   "metadata": {},
   "outputs": [
    {
     "data": {
      "text/plain": [
       "[<matplotlib.lines.Line2D at 0x19168aa3c88>]"
      ]
     },
     "execution_count": 11,
     "metadata": {},
     "output_type": "execute_result"
    },
    {
     "data": {
      "image/png": "[encoded data removed]",
      "text/plain": [
       "<Figure size 432x288 with 1 Axes>"
      ]
     },
     "metadata": {
      "needs_background": "light"
     },
     "output_type": "display_data"
    }
   ],
   "source": [
    "plt.plot(history.history['acc'])\n",
    "plt.plot(history.history['val_acc'])"
   ]
  },
  {
   "cell_type": "code",
   "execution_count": 12,
   "metadata": {},
   "outputs": [
    {
     "name": "stdout",
     "output_type": "stream",
     "text": [
      "54/54 [==============================] - 1s 11ms/step\n",
      "[0.013307666130087993, 1.0]\n"
     ]
    }
   ],
   "source": [
    "print(model.evaluate(test_data,test_target))"
   ]
  },
  {
   "cell_type": "code",
   "execution_count": 13,
   "metadata": {},
   "outputs": [],
   "source": [
    "model.save_weights('CINNOMON TYPE CNN.h5')"
   ]
  },
  {
   "cell_type": "code",
   "execution_count": null,
   "metadata": {},
   "outputs": [],
   "source": []
  }
 ],
 "metadata": {
  "kernelspec": {
   "display_name": "Python 3",
   "language": "python",
   "name": "python3"
  },
  "language_info": {
   "codemirror_mode": {
    "name": "ipython",
    "version": 3
   },
   "file_extension": ".py",
   "mimetype": "text/x-python",
   "name": "python",
   "nbconvert_exporter": "python",
   "pygments_lexer": "ipython3",
   "version": "3.7.6"
  }
 },
 "nbformat": 4,
 "nbformat_minor": 4
}
