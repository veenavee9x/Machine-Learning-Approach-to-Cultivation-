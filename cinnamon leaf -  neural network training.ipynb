{
 "cells": [
  {
   "cell_type": "code",
   "execution_count": 4,
   "metadata": {},
   "outputs": [],
   "source": [
    "import numpy as np\n",
    "\n",
    "data=np.load('data.npy')\n",
    "target=np.load('target.npy')"
   ]
  },
  {
   "cell_type": "code",
   "execution_count": 5,
   "metadata": {},
   "outputs": [
    {
     "name": "stderr",
     "output_type": "stream",
     "text": [
      "Using TensorFlow backend.\n",
      "C:\\Anaconda\\lib\\site-packages\\tensorflow\\python\\framework\\dtypes.py:526: FutureWarning: Passing (type, 1) or '1type' as a synonym of type is deprecated; in a future version of numpy, it will be understood as (type, (1,)) / '(1,)type'.\n",
      "  _np_qint8 = np.dtype([(\"qint8\", np.int8, 1)])\n",
      "C:\\Anaconda\\lib\\site-packages\\tensorflow\\python\\framework\\dtypes.py:527: FutureWarning: Passing (type, 1) or '1type' as a synonym of type is deprecated; in a future version of numpy, it will be understood as (type, (1,)) / '(1,)type'.\n",
      "  _np_quint8 = np.dtype([(\"quint8\", np.uint8, 1)])\n",
      "C:\\Anaconda\\lib\\site-packages\\tensorflow\\python\\framework\\dtypes.py:528: FutureWarning: Passing (type, 1) or '1type' as a synonym of type is deprecated; in a future version of numpy, it will be understood as (type, (1,)) / '(1,)type'.\n",
      "  _np_qint16 = np.dtype([(\"qint16\", np.int16, 1)])\n",
      "C:\\Anaconda\\lib\\site-packages\\tensorflow\\python\\framework\\dtypes.py:529: FutureWarning: Passing (type, 1) or '1type' as a synonym of type is deprecated; in a future version of numpy, it will be understood as (type, (1,)) / '(1,)type'.\n",
      "  _np_quint16 = np.dtype([(\"quint16\", np.uint16, 1)])\n",
      "C:\\Anaconda\\lib\\site-packages\\tensorflow\\python\\framework\\dtypes.py:530: FutureWarning: Passing (type, 1) or '1type' as a synonym of type is deprecated; in a future version of numpy, it will be understood as (type, (1,)) / '(1,)type'.\n",
      "  _np_qint32 = np.dtype([(\"qint32\", np.int32, 1)])\n",
      "C:\\Anaconda\\lib\\site-packages\\tensorflow\\python\\framework\\dtypes.py:535: FutureWarning: Passing (type, 1) or '1type' as a synonym of type is deprecated; in a future version of numpy, it will be understood as (type, (1,)) / '(1,)type'.\n",
      "  np_resource = np.dtype([(\"resource\", np.ubyte, 1)])\n"
     ]
    },
    {
     "name": "stdout",
     "output_type": "stream",
     "text": [
      "WARNING:tensorflow:From C:\\Anaconda\\lib\\site-packages\\tensorflow\\python\\framework\\op_def_library.py:263: colocate_with (from tensorflow.python.framework.ops) is deprecated and will be removed in a future version.\n",
      "Instructions for updating:\n",
      "Colocations handled automatically by placer.\n"
     ]
    }
   ],
   "source": [
    "from keras.models import Sequential\n",
    "from keras.layers import Dense,Activation,Flatten\n",
    "from keras.layers import Conv2D,MaxPooling2D\n",
    "\n",
    "model=Sequential()\n",
    "\n",
    "model.add(Conv2D(256,(3,3),input_shape=data.shape[1:]))\n",
    "model.add(Activation('relu'))\n",
    "model.add(MaxPooling2D(pool_size=(2,2)))\n",
    "#The first CNN layer followed by Relu and MaxPooling layers\n",
    "\n",
    "model.add(Conv2D(128,(3,3)))\n",
    "model.add(Activation('relu'))\n",
    "model.add(MaxPooling2D(pool_size=(2,2)))\n",
    "#The second convolution layer followed by Relu and MaxPooling layers\n",
    "\n",
    "model.add(Flatten())\n",
    "#Flatten layer to stack the output convolutions from second convolution layer\n",
    "model.add(Dense(64,activation='relu'))\n",
    "#Dense layer of 64 neurons\n",
    "model.add(Dense(2,activation='softmax'))\n",
    "#The Final layer with two outputs for two categories\n",
    "\n",
    "model.compile(loss='categorical_crossentropy',optimizer='adam',metrics=['accuracy'])"
   ]
  },
  {
   "cell_type": "code",
   "execution_count": 6,
   "metadata": {},
   "outputs": [],
   "source": [
    "from sklearn.model_selection import train_test_split\n",
    "\n",
    "train_data,test_data,train_target,test_target=train_test_split(data,target,test_size=0.1)"
   ]
  },
  {
   "cell_type": "code",
   "execution_count": 7,
   "metadata": {},
   "outputs": [
    {
     "name": "stdout",
     "output_type": "stream",
     "text": [
      "WARNING:tensorflow:From C:\\Anaconda\\lib\\site-packages\\tensorflow\\python\\ops\\math_ops.py:3066: to_int32 (from tensorflow.python.ops.math_ops) is deprecated and will be removed in a future version.\n",
      "Instructions for updating:\n",
      "Use tf.cast instead.\n",
      "Train on 554 samples, validate on 139 samples\n",
      "Epoch 1/100\n",
      "554/554 [==============================] - 19s 34ms/step - loss: 0.6932 - acc: 0.5325 - val_loss: 0.6862 - val_acc: 0.5324\n",
      "Epoch 2/100\n",
      "554/554 [==============================] - 20s 35ms/step - loss: 0.6726 - acc: 0.5596 - val_loss: 0.6691 - val_acc: 0.5324\n",
      "Epoch 3/100\n",
      "554/554 [==============================] - 19s 34ms/step - loss: 0.6523 - acc: 0.5704 - val_loss: 0.6415 - val_acc: 0.5396\n",
      "Epoch 4/100\n",
      "554/554 [==============================] - 20s 36ms/step - loss: 0.5953 - acc: 0.5848 - val_loss: 0.6202 - val_acc: 0.5612\n",
      "Epoch 5/100\n",
      "554/554 [==============================] - 20s 35ms/step - loss: 0.5633 - acc: 0.6679 - val_loss: 0.5760 - val_acc: 0.6691\n",
      "Epoch 6/100\n",
      "554/554 [==============================] - 20s 36ms/step - loss: 0.5024 - acc: 0.7419 - val_loss: 0.5462 - val_acc: 0.7338\n",
      "Epoch 7/100\n",
      "554/554 [==============================] - 20s 36ms/step - loss: 0.4720 - acc: 0.7617 - val_loss: 0.5562 - val_acc: 0.6835\n",
      "Epoch 8/100\n",
      "554/554 [==============================] - 20s 35ms/step - loss: 0.4350 - acc: 0.7870 - val_loss: 0.5359 - val_acc: 0.7410\n",
      "Epoch 9/100\n",
      "554/554 [==============================] - 20s 36ms/step - loss: 0.4009 - acc: 0.7924 - val_loss: 0.4860 - val_acc: 0.7626\n",
      "Epoch 10/100\n",
      "554/554 [==============================] - 19s 35ms/step - loss: 0.3753 - acc: 0.8267 - val_loss: 0.5800 - val_acc: 0.7338\n",
      "Epoch 11/100\n",
      "554/554 [==============================] - 19s 34ms/step - loss: 0.3499 - acc: 0.8357 - val_loss: 0.5267 - val_acc: 0.7626\n",
      "Epoch 12/100\n",
      "554/554 [==============================] - 18s 33ms/step - loss: 0.3470 - acc: 0.8249 - val_loss: 0.8363 - val_acc: 0.6115\n",
      "Epoch 13/100\n",
      "554/554 [==============================] - 19s 35ms/step - loss: 0.3832 - acc: 0.8285 - val_loss: 0.5203 - val_acc: 0.7554\n",
      "Epoch 14/100\n",
      "554/554 [==============================] - 19s 34ms/step - loss: 0.3051 - acc: 0.8773 - val_loss: 0.5946 - val_acc: 0.7698\n",
      "Epoch 15/100\n",
      "554/554 [==============================] - 22s 40ms/step - loss: 0.2723 - acc: 0.8755 - val_loss: 0.5564 - val_acc: 0.7842\n",
      "Epoch 16/100\n",
      "554/554 [==============================] - 20s 36ms/step - loss: 0.2667 - acc: 0.8881 - val_loss: 0.7391 - val_acc: 0.7050\n",
      "Epoch 17/100\n",
      "554/554 [==============================] - 23s 41ms/step - loss: 0.2454 - acc: 0.8809 - val_loss: 0.6782 - val_acc: 0.7050\n",
      "Epoch 18/100\n",
      "554/554 [==============================] - 21s 38ms/step - loss: 0.2034 - acc: 0.9296 - val_loss: 0.6587 - val_acc: 0.7410\n",
      "Epoch 19/100\n",
      "554/554 [==============================] - 24s 44ms/step - loss: 0.1863 - acc: 0.9260 - val_loss: 0.7893 - val_acc: 0.7050\n",
      "Epoch 20/100\n",
      "554/554 [==============================] - 28s 51ms/step - loss: 0.1851 - acc: 0.9332 - val_loss: 0.7079 - val_acc: 0.7194\n",
      "Epoch 21/100\n",
      "554/554 [==============================] - 21s 37ms/step - loss: 0.1544 - acc: 0.9422 - val_loss: 0.7320 - val_acc: 0.7410\n",
      "Epoch 22/100\n",
      "554/554 [==============================] - 19s 35ms/step - loss: 0.1256 - acc: 0.9585 - val_loss: 0.8092 - val_acc: 0.7266\n",
      "Epoch 23/100\n",
      "554/554 [==============================] - 26s 47ms/step - loss: 0.1012 - acc: 0.9657 - val_loss: 0.9948 - val_acc: 0.7194\n",
      "Epoch 24/100\n",
      "554/554 [==============================] - 20s 37ms/step - loss: 0.0841 - acc: 0.9783 - val_loss: 0.9678 - val_acc: 0.6763\n",
      "Epoch 25/100\n",
      "554/554 [==============================] - 23s 41ms/step - loss: 0.0768 - acc: 0.9783 - val_loss: 1.1442 - val_acc: 0.7122\n",
      "Epoch 26/100\n",
      "554/554 [==============================] - 20s 36ms/step - loss: 0.0801 - acc: 0.9711 - val_loss: 1.1708 - val_acc: 0.7194\n",
      "Epoch 27/100\n",
      "554/554 [==============================] - 18s 33ms/step - loss: 0.0550 - acc: 0.9874 - val_loss: 1.2376 - val_acc: 0.6906\n",
      "Epoch 28/100\n",
      "554/554 [==============================] - 20s 36ms/step - loss: 0.0352 - acc: 0.9928 - val_loss: 1.1802 - val_acc: 0.7194\n",
      "Epoch 29/100\n",
      "554/554 [==============================] - 19s 34ms/step - loss: 0.0259 - acc: 0.9982 - val_loss: 1.4046 - val_acc: 0.6906\n",
      "Epoch 30/100\n",
      "554/554 [==============================] - 19s 34ms/step - loss: 0.0216 - acc: 0.9964 - val_loss: 1.2814 - val_acc: 0.7338\n",
      "Epoch 31/100\n",
      "554/554 [==============================] - 20s 36ms/step - loss: 0.0153 - acc: 1.0000 - val_loss: 1.4902 - val_acc: 0.7050\n",
      "Epoch 32/100\n",
      "554/554 [==============================] - 19s 35ms/step - loss: 0.0126 - acc: 1.0000 - val_loss: 1.4359 - val_acc: 0.7122\n",
      "Epoch 33/100\n",
      "554/554 [==============================] - 18s 33ms/step - loss: 0.0085 - acc: 1.0000 - val_loss: 1.5076 - val_acc: 0.6906\n",
      "Epoch 34/100\n",
      "554/554 [==============================] - 18s 32ms/step - loss: 0.0117 - acc: 1.0000 - val_loss: 1.5564 - val_acc: 0.7122\n",
      "Epoch 35/100\n",
      "554/554 [==============================] - 19s 34ms/step - loss: 0.0097 - acc: 1.0000 - val_loss: 1.5428 - val_acc: 0.6978\n",
      "Epoch 36/100\n",
      "554/554 [==============================] - 19s 34ms/step - loss: 0.0054 - acc: 1.0000 - val_loss: 1.5507 - val_acc: 0.6978\n",
      "Epoch 37/100\n",
      "554/554 [==============================] - 19s 34ms/step - loss: 0.0038 - acc: 1.0000 - val_loss: 1.5709 - val_acc: 0.6978\n",
      "Epoch 38/100\n",
      "554/554 [==============================] - 19s 35ms/step - loss: 0.0030 - acc: 1.0000 - val_loss: 1.5881 - val_acc: 0.6978\n",
      "Epoch 39/100\n",
      "554/554 [==============================] - 20s 36ms/step - loss: 0.0029 - acc: 1.0000 - val_loss: 1.6120 - val_acc: 0.7050\n",
      "Epoch 40/100\n",
      "554/554 [==============================] - 20s 36ms/step - loss: 0.0025 - acc: 1.0000 - val_loss: 1.6266 - val_acc: 0.7122\n",
      "Epoch 41/100\n",
      "554/554 [==============================] - 21s 37ms/step - loss: 0.0021 - acc: 1.0000 - val_loss: 1.6336 - val_acc: 0.7050\n",
      "Epoch 42/100\n",
      "554/554 [==============================] - 20s 36ms/step - loss: 0.0020 - acc: 1.0000 - val_loss: 1.6444 - val_acc: 0.7266\n",
      "Epoch 43/100\n",
      "554/554 [==============================] - 19s 34ms/step - loss: 0.0019 - acc: 1.0000 - val_loss: 1.6576 - val_acc: 0.7050\n",
      "Epoch 44/100\n",
      "554/554 [==============================] - 25s 45ms/step - loss: 0.0016 - acc: 1.0000 - val_loss: 1.6684 - val_acc: 0.7122\n",
      "Epoch 45/100\n",
      "554/554 [==============================] - 35s 64ms/step - loss: 0.0015 - acc: 1.0000 - val_loss: 1.6673 - val_acc: 0.7050\n",
      "Epoch 46/100\n",
      "554/554 [==============================] - 30s 54ms/step - loss: 0.0014 - acc: 1.0000 - val_loss: 1.6774 - val_acc: 0.7050\n",
      "Epoch 47/100\n",
      "554/554 [==============================] - 24s 44ms/step - loss: 0.0013 - acc: 1.0000 - val_loss: 1.6797 - val_acc: 0.7122\n",
      "Epoch 48/100\n",
      "554/554 [==============================] - 25s 45ms/step - loss: 0.0012 - acc: 1.0000 - val_loss: 1.7087 - val_acc: 0.6978\n",
      "Epoch 49/100\n",
      "554/554 [==============================] - 31s 56ms/step - loss: 0.0011 - acc: 1.0000 - val_loss: 1.6963 - val_acc: 0.7050\n",
      "Epoch 50/100\n",
      "554/554 [==============================] - 29s 52ms/step - loss: 0.0011 - acc: 1.0000 - val_loss: 1.7148 - val_acc: 0.7050\n",
      "Epoch 51/100\n",
      "554/554 [==============================] - 22s 39ms/step - loss: 0.0010 - acc: 1.0000 - val_loss: 1.7243 - val_acc: 0.7122\n",
      "Epoch 52/100\n",
      "554/554 [==============================] - 23s 41ms/step - loss: 9.5608e-04 - acc: 1.0000 - val_loss: 1.7355 - val_acc: 0.7122\n",
      "Epoch 53/100\n",
      "554/554 [==============================] - 24s 44ms/step - loss: 8.7811e-04 - acc: 1.0000 - val_loss: 1.7425 - val_acc: 0.7050\n",
      "Epoch 54/100\n",
      "554/554 [==============================] - 21s 37ms/step - loss: 8.1810e-04 - acc: 1.0000 - val_loss: 1.7351 - val_acc: 0.7050\n",
      "Epoch 55/100\n",
      "554/554 [==============================] - 21s 39ms/step - loss: 7.7560e-04 - acc: 1.0000 - val_loss: 1.7483 - val_acc: 0.7122\n",
      "Epoch 56/100\n",
      "554/554 [==============================] - 21s 38ms/step - loss: 7.5177e-04 - acc: 1.0000 - val_loss: 1.7594 - val_acc: 0.7122\n",
      "Epoch 57/100\n",
      "554/554 [==============================] - 25s 46ms/step - loss: 7.1618e-04 - acc: 1.0000 - val_loss: 1.7564 - val_acc: 0.7122\n",
      "Epoch 58/100\n",
      "554/554 [==============================] - 25s 45ms/step - loss: 6.7988e-04 - acc: 1.0000 - val_loss: 1.7680 - val_acc: 0.7122\n"
     ]
    },
    {
     "name": "stdout",
     "output_type": "stream",
     "text": [
      "Epoch 59/100\n",
      "554/554 [==============================] - 19s 35ms/step - loss: 6.4212e-04 - acc: 1.0000 - val_loss: 1.7615 - val_acc: 0.7050\n",
      "Epoch 60/100\n",
      "554/554 [==============================] - 20s 36ms/step - loss: 6.0658e-04 - acc: 1.0000 - val_loss: 1.7781 - val_acc: 0.7122\n",
      "Epoch 61/100\n",
      "554/554 [==============================] - 23s 42ms/step - loss: 5.8011e-04 - acc: 1.0000 - val_loss: 1.7810 - val_acc: 0.7122\n",
      "Epoch 62/100\n",
      "554/554 [==============================] - 17s 31ms/step - loss: 5.4946e-04 - acc: 1.0000 - val_loss: 1.7931 - val_acc: 0.7050\n",
      "Epoch 63/100\n",
      "554/554 [==============================] - 18s 33ms/step - loss: 5.4781e-04 - acc: 1.0000 - val_loss: 1.7944 - val_acc: 0.7122\n",
      "Epoch 64/100\n",
      "554/554 [==============================] - 18s 32ms/step - loss: 5.1553e-04 - acc: 1.0000 - val_loss: 1.7928 - val_acc: 0.7122\n",
      "Epoch 65/100\n",
      "554/554 [==============================] - 19s 35ms/step - loss: 4.8687e-04 - acc: 1.0000 - val_loss: 1.8172 - val_acc: 0.7122\n",
      "Epoch 66/100\n",
      "554/554 [==============================] - 16s 29ms/step - loss: 4.7236e-04 - acc: 1.0000 - val_loss: 1.8200 - val_acc: 0.7122\n",
      "Epoch 67/100\n",
      "554/554 [==============================] - 17s 30ms/step - loss: 4.4612e-04 - acc: 1.0000 - val_loss: 1.8164 - val_acc: 0.7194\n",
      "Epoch 68/100\n",
      "554/554 [==============================] - 18s 32ms/step - loss: 4.2859e-04 - acc: 1.0000 - val_loss: 1.8173 - val_acc: 0.7122\n",
      "Epoch 69/100\n",
      "554/554 [==============================] - 19s 34ms/step - loss: 4.0799e-04 - acc: 1.0000 - val_loss: 1.8222 - val_acc: 0.7050\n",
      "Epoch 70/100\n",
      "554/554 [==============================] - 21s 37ms/step - loss: 3.9453e-04 - acc: 1.0000 - val_loss: 1.8362 - val_acc: 0.7122\n",
      "Epoch 71/100\n",
      "554/554 [==============================] - 17s 30ms/step - loss: 3.8996e-04 - acc: 1.0000 - val_loss: 1.8424 - val_acc: 0.7050\n",
      "Epoch 72/100\n",
      "554/554 [==============================] - 20s 36ms/step - loss: 3.7890e-04 - acc: 1.0000 - val_loss: 1.8437 - val_acc: 0.7194\n",
      "Epoch 73/100\n",
      "554/554 [==============================] - 25s 45ms/step - loss: 3.5653e-04 - acc: 1.0000 - val_loss: 1.8549 - val_acc: 0.7050\n",
      "Epoch 74/100\n",
      "554/554 [==============================] - 20s 37ms/step - loss: 3.4700e-04 - acc: 1.0000 - val_loss: 1.8568 - val_acc: 0.7194\n",
      "Epoch 75/100\n",
      "554/554 [==============================] - 21s 38ms/step - loss: 3.2944e-04 - acc: 1.0000 - val_loss: 1.8662 - val_acc: 0.7050\n",
      "Epoch 76/100\n",
      "554/554 [==============================] - 20s 37ms/step - loss: 3.1867e-04 - acc: 1.0000 - val_loss: 1.8746 - val_acc: 0.7122\n",
      "Epoch 77/100\n",
      "554/554 [==============================] - 20s 36ms/step - loss: 3.0470e-04 - acc: 1.0000 - val_loss: 1.8701 - val_acc: 0.7050\n",
      "Epoch 78/100\n",
      "554/554 [==============================] - 21s 38ms/step - loss: 3.0149e-04 - acc: 1.0000 - val_loss: 1.8717 - val_acc: 0.7122\n",
      "Epoch 79/100\n",
      "554/554 [==============================] - 20s 37ms/step - loss: 2.9107e-04 - acc: 1.0000 - val_loss: 1.8776 - val_acc: 0.7122\n",
      "Epoch 80/100\n",
      "554/554 [==============================] - 20s 37ms/step - loss: 2.7915e-04 - acc: 1.0000 - val_loss: 1.8768 - val_acc: 0.7122\n",
      "Epoch 81/100\n",
      "554/554 [==============================] - 66s 119ms/step - loss: 2.6939e-04 - acc: 1.0000 - val_loss: 1.8867 - val_acc: 0.7122\n",
      "Epoch 82/100\n",
      "554/554 [==============================] - 155s 279ms/step - loss: 2.6266e-04 - acc: 1.0000 - val_loss: 1.8935 - val_acc: 0.7122\n",
      "Epoch 83/100\n",
      "554/554 [==============================] - 17s 31ms/step - loss: 2.5098e-04 - acc: 1.0000 - val_loss: 1.9001 - val_acc: 0.7122\n",
      "Epoch 84/100\n",
      "554/554 [==============================] - 16s 28ms/step - loss: 2.4600e-04 - acc: 1.0000 - val_loss: 1.9012 - val_acc: 0.7194\n",
      "Epoch 85/100\n",
      "554/554 [==============================] - 16s 28ms/step - loss: 2.3635e-04 - acc: 1.0000 - val_loss: 1.9052 - val_acc: 0.7194\n",
      "Epoch 86/100\n",
      "554/554 [==============================] - 16s 29ms/step - loss: 2.3116e-04 - acc: 1.0000 - val_loss: 1.9181 - val_acc: 0.7050\n",
      "Epoch 87/100\n",
      "554/554 [==============================] - 16s 29ms/step - loss: 2.2842e-04 - acc: 1.0000 - val_loss: 1.9054 - val_acc: 0.7122\n",
      "Epoch 88/100\n",
      "554/554 [==============================] - 22s 40ms/step - loss: 2.1734e-04 - acc: 1.0000 - val_loss: 1.9157 - val_acc: 0.7194\n",
      "Epoch 89/100\n",
      "554/554 [==============================] - 20s 36ms/step - loss: 2.0863e-04 - acc: 1.0000 - val_loss: 1.9191 - val_acc: 0.7122\n",
      "Epoch 90/100\n",
      "554/554 [==============================] - 34s 62ms/step - loss: 2.0401e-04 - acc: 1.0000 - val_loss: 1.9254 - val_acc: 0.7194\n",
      "Epoch 91/100\n",
      "554/554 [==============================] - 111s 201ms/step - loss: 1.9981e-04 - acc: 1.0000 - val_loss: 1.9362 - val_acc: 0.7122\n",
      "Epoch 92/100\n",
      "554/554 [==============================] - 17s 31ms/step - loss: 1.9356e-04 - acc: 1.0000 - val_loss: 1.9314 - val_acc: 0.7122\n",
      "Epoch 93/100\n",
      "554/554 [==============================] - 16s 29ms/step - loss: 1.8592e-04 - acc: 1.0000 - val_loss: 1.9429 - val_acc: 0.7122\n",
      "Epoch 94/100\n",
      "554/554 [==============================] - 16s 28ms/step - loss: 1.8007e-04 - acc: 1.0000 - val_loss: 1.9488 - val_acc: 0.7122\n",
      "Epoch 95/100\n",
      "554/554 [==============================] - 19s 34ms/step - loss: 1.7420e-04 - acc: 1.0000 - val_loss: 1.9432 - val_acc: 0.7194\n",
      "Epoch 96/100\n",
      "554/554 [==============================] - 23s 42ms/step - loss: 1.6814e-04 - acc: 1.0000 - val_loss: 1.9483 - val_acc: 0.7194\n",
      "Epoch 97/100\n",
      "554/554 [==============================] - 22s 40ms/step - loss: 1.6809e-04 - acc: 1.0000 - val_loss: 1.9504 - val_acc: 0.7194\n",
      "Epoch 98/100\n",
      "554/554 [==============================] - 17s 31ms/step - loss: 1.5986e-04 - acc: 1.0000 - val_loss: 1.9549 - val_acc: 0.7194\n",
      "Epoch 99/100\n",
      "554/554 [==============================] - 36s 65ms/step - loss: 1.6000e-04 - acc: 1.0000 - val_loss: 1.9585 - val_acc: 0.7122\n",
      "Epoch 100/100\n",
      "554/554 [==============================] - 47s 84ms/step - loss: 1.5704e-04 - acc: 1.0000 - val_loss: 1.9615 - val_acc: 0.7194\n"
     ]
    }
   ],
   "source": [
    "history=model.fit(train_data,train_target,epochs=100,validation_split=0.2)"
   ]
  },
  {
   "cell_type": "code",
   "execution_count": 8,
   "metadata": {},
   "outputs": [
    {
     "data": {
      "text/plain": [
       "[<matplotlib.lines.Line2D at 0x26b5de38848>]"
      ]
     },
     "execution_count": 8,
     "metadata": {},
     "output_type": "execute_result"
    },
    {
     "data": {
      "image/png": "[encoded data removed]",
      "text/plain": [
       "<Figure size 432x288 with 1 Axes>"
      ]
     },
     "metadata": {
      "needs_background": "light"
     },
     "output_type": "display_data"
    }
   ],
   "source": [
    "from matplotlib import pyplot as plt\n",
    "plt.plot(history.history['loss'])\n",
    "plt.plot(history.history['val_loss'])"
   ]
  },
  {
   "cell_type": "code",
   "execution_count": 9,
   "metadata": {},
   "outputs": [
    {
     "data": {
      "text/plain": [
       "[<matplotlib.lines.Line2D at 0x26b5ea14fc8>]"
      ]
     },
     "execution_count": 9,
     "metadata": {},
     "output_type": "execute_result"
    },
    {
     "data": {
      "image/png": "[encoded data removed]",
      "text/plain": [
       "<Figure size 432x288 with 1 Axes>"
      ]
     },
     "metadata": {
      "needs_background": "light"
     },
     "output_type": "display_data"
    }
   ],
   "source": [
    "plt.plot(history.history['acc'])\n",
    "plt.plot(history.history['val_acc'])"
   ]
  },
  {
   "cell_type": "code",
   "execution_count": 10,
   "metadata": {},
   "outputs": [
    {
     "name": "stdout",
     "output_type": "stream",
     "text": [
      "77/77 [==============================] - 1s 7ms/step\n",
      "[0.992530945059541, 0.8181818205040771]\n"
     ]
    }
   ],
   "source": [
    "print(model.evaluate(test_data,test_target))"
   ]
  },
  {
   "cell_type": "code",
   "execution_count": 11,
   "metadata": {},
   "outputs": [],
   "source": [
    "model.save_weights('CINNOMON LEAF CNN.h5')"
   ]
  },
  {
   "cell_type": "code",
   "execution_count": null,
   "metadata": {},
   "outputs": [],
   "source": []
  }
 ],
 "metadata": {
  "kernelspec": {
   "display_name": "Python 3",
   "language": "python",
   "name": "python3"
  },
  "language_info": {
   "codemirror_mode": {
    "name": "ipython",
    "version": 3
   },
   "file_extension": ".py",
   "mimetype": "text/x-python",
   "name": "python",
   "nbconvert_exporter": "python",
   "pygments_lexer": "ipython3",
   "version": "3.7.6"
  }
 },
 "nbformat": 4,
 "nbformat_minor": 4
}
